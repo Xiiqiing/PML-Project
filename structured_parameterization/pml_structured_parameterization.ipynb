{
  "metadata": {
    "kernelspec": {
      "language": "python",
      "display_name": "Python 3",
      "name": "python3"
    },
    "language_info": {
      "name": "python",
      "version": "3.7.12",
      "mimetype": "text/x-python",
      "codemirror_mode": {
        "name": "ipython",
        "version": 3
      },
      "pygments_lexer": "ipython3",
      "nbconvert_exporter": "python",
      "file_extension": ".py"
    },
    "colab": {
      "name": "pml-structured-parameterization.ipynb",
      "provenance": [],
      "collapsed_sections": []
    },
    "accelerator": "GPU"
  },
  "nbformat_minor": 0,
  "nbformat": 4,
  "cells": [
    {
      "cell_type": "markdown",
      "source": [
        "# PML Project\n",
        "\n",
        "Data: 2022-01-10\n",
        "\n",
        "Author: Jiajun He\n",
        "\n",
        "Content: Structured Parameterization of the Decoder Networks, but estimated by MAP."
      ],
      "metadata": {
        "id": "zwF5WzjgxvFJ"
      }
    },
    {
      "cell_type": "code",
      "source": [
        "!wget https://sid.erda.dk/share_redirect/a5PTfl88w0/BLAT_ECOLX_1_b0.5_labeled.fasta"
      ],
      "metadata": {
        "execution": {
          "iopub.status.busy": "2022-01-08T21:44:05.916931Z",
          "iopub.execute_input": "2022-01-08T21:44:05.917260Z",
          "iopub.status.idle": "2022-01-08T21:44:07.479169Z",
          "shell.execute_reply.started": "2022-01-08T21:44:05.917222Z",
          "shell.execute_reply": "2022-01-08T21:44:07.478358Z"
        },
        "trusted": true,
        "colab": {
          "base_uri": "https://localhost:8080/"
        },
        "id": "VjQYAUdJxvFN",
        "outputId": "68f285af-2782-4c52-d8c5-1899474e963d"
      },
      "execution_count": null,
      "outputs": [
        {
          "output_type": "stream",
          "name": "stdout",
          "text": [
            "--2022-01-09 12:23:48--  https://sid.erda.dk/share_redirect/a5PTfl88w0/BLAT_ECOLX_1_b0.5_labeled.fasta\n",
            "Resolving sid.erda.dk (sid.erda.dk)... 130.225.104.13\n",
            "Connecting to sid.erda.dk (sid.erda.dk)|130.225.104.13|:443... connected.\n",
            "HTTP request sent, awaiting response... 200 OK\n",
            "Length: 2441075 (2.3M)\n",
            "Saving to: ‘BLAT_ECOLX_1_b0.5_labeled.fasta’\n",
            "\n",
            "BLAT_ECOLX_1_b0.5_l 100%[===================>]   2.33M  2.21MB/s    in 1.1s    \n",
            "\n",
            "2022-01-09 12:23:50 (2.21 MB/s) - ‘BLAT_ECOLX_1_b0.5_labeled.fasta’ saved [2441075/2441075]\n",
            "\n"
          ]
        }
      ]
    },
    {
      "cell_type": "code",
      "source": [
        "from google.colab import drive\n",
        "drive.mount('/content/drive')"
      ],
      "metadata": {
        "colab": {
          "base_uri": "https://localhost:8080/"
        },
        "id": "lhJvBmGuxxgs",
        "outputId": "096577af-befe-4b15-bc6c-815f09686486"
      },
      "execution_count": null,
      "outputs": [
        {
          "output_type": "stream",
          "name": "stdout",
          "text": [
            "Mounted at /content/drive\n"
          ]
        }
      ]
    },
    {
      "cell_type": "code",
      "source": [
        "# parsing the FASTA file, codes from https://colab.research.google.com/github/wouterboomsma/pml_vae_project/blob/main/protein_vae_data_processing.ipynb\n",
        "import os\n",
        "import re\n",
        "import numpy as np\n",
        "import torch\n",
        "import torch.nn.functional as F\n",
        "import pandas as pd\n",
        "\n",
        "# FASTA parser requires Biopython\n",
        "try:\n",
        "    from Bio import SeqIO\n",
        "except:\n",
        "    !pip install biopython\n",
        "    from Bio import SeqIO\n",
        "    \n",
        "# Retrieve protein alignment file\n",
        "if not os.path.exists('BLAT_ECOLX_1_b0.5_labeled.fasta'):\n",
        "    !wget https://sid.erda.dk/share_redirect/a5PTfl88w0/BLAT_ECOLX_1_b0.5_labeled.fasta\n",
        "        \n",
        "# Retrieve file with experimental measurements\n",
        "if not os.path.exists('BLAT_ECOLX_Ranganathan2015.csv'):\n",
        "    !wget https://sid.erda.dk/share_redirect/a5PTfl88w0/BLAT_ECOLX_Ranganathan2015.csv\n",
        "        \n",
        "# Options\n",
        "batch_size = 16\n",
        "\n",
        "# Mapping from amino acids to integers\n",
        "aa1_to_index = {'A': 0, 'C': 1, 'D': 2, 'E': 3, 'F': 4, 'G': 5, 'H': 6,\n",
        "                'I': 7, 'K': 8, 'L': 9, 'M': 10, 'N': 11, 'P': 12,\n",
        "                'Q': 13, 'R': 14, 'S': 15, 'T': 16, 'V': 17, 'W': 18,\n",
        "                'Y': 19, 'X':20, 'Z': 21, '-': 22}\n",
        "aa1 = \"ACDEFGHIKLMNPQRSTVWYXZ-\"\n",
        "\n",
        "phyla = ['Acidobacteria', 'Actinobacteria', 'Bacteroidetes',\n",
        "         'Chloroflexi', 'Cyanobacteria', 'Deinococcus-Thermus',\n",
        "         'Firmicutes', 'Fusobacteria', 'Proteobacteria', 'Other']\n",
        "\n",
        "def get_data(data_filename, calc_weights=False, weights_similarity_threshold=0.8):\n",
        "    '''Create dataset from FASTA filename'''\n",
        "    ids = []\n",
        "    labels = []\n",
        "    seqs = []\n",
        "    label_re = re.compile(r'\\[([^\\]]*)\\]')\n",
        "    for record in SeqIO.parse(data_filename, \"fasta\"):\n",
        "        ids.append(record.id)       \n",
        "        seqs.append(np.array([aa1_to_index[aa] for aa in str(record.seq).upper().replace('.', '-')]))\n",
        "        \n",
        "        label = label_re.search(record.description).group(1)\n",
        "        # Only use most common classes\n",
        "        if label not in phyla:\n",
        "            label = 'Other'\n",
        "        labels.append(label)\n",
        "                \n",
        "    seqs = torch.from_numpy(np.vstack(seqs))\n",
        "    labels = np.array(labels)\n",
        "    \n",
        "    phyla_lookup_table, phyla_idx = np.unique(labels, return_inverse=True)\n",
        "\n",
        "    dataset = torch.utils.data.TensorDataset(*[seqs, torch.from_numpy(phyla_idx)])\n",
        "    \n",
        "    \n",
        "    weights = None\n",
        "    if calc_weights is not False:\n",
        "\n",
        "        # Experiencing memory issues on colab for this code because pytorch doesn't\n",
        "        # allow one_hot directly to bool. Splitting in two and then merging.\n",
        "        # one_hot = F.one_hot(seqs.long()).to('cuda' if torch.cuda.is_available() else 'cpu')\n",
        "        one_hot1 = F.one_hot(seqs[:len(seqs)//2].long()).bool()\n",
        "        one_hot2 = F.one_hot(seqs[len(seqs)//2:].long()).bool()\n",
        "        one_hot = torch.cat([one_hot1, one_hot2]).to('cuda' if torch.cuda.is_available() else 'cpu')\n",
        "        assert(len(seqs) == len(one_hot))\n",
        "        del one_hot1\n",
        "        del one_hot2\n",
        "        one_hot[seqs>19] = 0\n",
        "        flat_one_hot = one_hot.flatten(1)\n",
        "\n",
        "        weights = []\n",
        "        weight_batch_size = 1000\n",
        "        flat_one_hot = flat_one_hot.float()\n",
        "        for i in range(seqs.size(0) // weight_batch_size + 1):\n",
        "            x = flat_one_hot[i * weight_batch_size : (i + 1) * weight_batch_size]\n",
        "            similarities = torch.mm(x, flat_one_hot.T)\n",
        "            lengths = (seqs[i * weight_batch_size : (i + 1) * weight_batch_size] <=19).sum(1).unsqueeze(-1).to('cuda' if torch.cuda.is_available() else 'cpu')\n",
        "            w = 1.0 / (similarities / lengths).gt(weights_similarity_threshold).sum(1).float()\n",
        "            weights.append(w)\n",
        "            \n",
        "        weights = torch.cat(weights)\n",
        "        neff = weights.sum()\n",
        "\n",
        "    return dataset, weights\n",
        "\n",
        "\n",
        "dataset, weights = get_data('BLAT_ECOLX_1_b0.5_labeled.fasta', calc_weights=True)\n",
        "dataloader = torch.utils.data.DataLoader(dataset, batch_size=batch_size, shuffle=True)\n",
        "dataloader_weighted = torch.utils.data.DataLoader(dataset, batch_size=batch_size, sampler=torch.utils.data.sampler.WeightedRandomSampler(weights, num_samples=len(dataset)))"
      ],
      "metadata": {
        "execution": {
          "iopub.status.busy": "2022-01-08T21:44:07.481640Z",
          "iopub.execute_input": "2022-01-08T21:44:07.482220Z",
          "iopub.status.idle": "2022-01-08T21:44:08.635843Z",
          "shell.execute_reply.started": "2022-01-08T21:44:07.482154Z",
          "shell.execute_reply": "2022-01-08T21:44:08.634987Z"
        },
        "trusted": true,
        "colab": {
          "base_uri": "https://localhost:8080/"
        },
        "id": "BBLMaRI2xvFO",
        "outputId": "2746df95-fd4c-4407-9ded-eec2f56e1b7d"
      },
      "execution_count": null,
      "outputs": [
        {
          "output_type": "stream",
          "name": "stdout",
          "text": [
            "Collecting biopython\n",
            "  Downloading biopython-1.79-cp37-cp37m-manylinux_2_5_x86_64.manylinux1_x86_64.whl (2.3 MB)\n",
            "\u001b[K     |████████████████████████████████| 2.3 MB 7.4 MB/s \n",
            "\u001b[?25hRequirement already satisfied: numpy in /usr/local/lib/python3.7/dist-packages (from biopython) (1.19.5)\n",
            "Installing collected packages: biopython\n",
            "Successfully installed biopython-1.79\n",
            "--2022-01-09 12:24:18--  https://sid.erda.dk/share_redirect/a5PTfl88w0/BLAT_ECOLX_Ranganathan2015.csv\n",
            "Resolving sid.erda.dk (sid.erda.dk)... 130.225.104.13\n",
            "Connecting to sid.erda.dk (sid.erda.dk)|130.225.104.13|:443... connected.\n",
            "HTTP request sent, awaiting response... 200 OK\n",
            "Length: 1216640 (1.2M) [text/csv]\n",
            "Saving to: ‘BLAT_ECOLX_Ranganathan2015.csv’\n",
            "\n",
            "BLAT_ECOLX_Ranganat 100%[===================>]   1.16M  1.29MB/s    in 0.9s    \n",
            "\n",
            "2022-01-09 12:24:20 (1.29 MB/s) - ‘BLAT_ECOLX_Ranganathan2015.csv’ saved [1216640/1216640]\n",
            "\n"
          ]
        }
      ]
    },
    {
      "cell_type": "code",
      "source": [
        "import torch\n",
        "from torch.optim import Adam\n",
        "from torch import nn\n",
        "from tqdm import tqdm\n",
        "import matplotlib.pyplot as plt\n",
        "from scipy.stats import spearmanr"
      ],
      "metadata": {
        "execution": {
          "iopub.status.busy": "2022-01-08T21:44:08.637288Z",
          "iopub.execute_input": "2022-01-08T21:44:08.637561Z",
          "iopub.status.idle": "2022-01-08T21:44:08.641991Z",
          "shell.execute_reply.started": "2022-01-08T21:44:08.637524Z",
          "shell.execute_reply": "2022-01-08T21:44:08.641228Z"
        },
        "trusted": true,
        "id": "bY5SlBiNxvFQ"
      },
      "execution_count": null,
      "outputs": []
    },
    {
      "cell_type": "code",
      "source": [
        "global H\n",
        "H = 2000"
      ],
      "metadata": {
        "execution": {
          "iopub.status.busy": "2022-01-08T21:44:08.644347Z",
          "iopub.execute_input": "2022-01-08T21:44:08.644846Z",
          "iopub.status.idle": "2022-01-08T21:44:08.653562Z",
          "shell.execute_reply.started": "2022-01-08T21:44:08.644796Z",
          "shell.execute_reply": "2022-01-08T21:44:08.652717Z"
        },
        "trusted": true,
        "id": "oiflL_jwxvFQ"
      },
      "execution_count": null,
      "outputs": []
    },
    {
      "cell_type": "code",
      "source": [
        "class DeepSeq_MAP(nn.Module):\n",
        "    def __init__(self, input_size, latent_size, device):\n",
        "        super().__init__()\n",
        "        self.fc11 = nn.Linear(input_size, 1500) # 1500 is the number in the papar\n",
        "        self.fc12 = nn.Linear(1500, 1500)\n",
        "        self.fc131 = nn.Linear(1500, latent_size)\n",
        "        self.fc132 = nn.Linear(1500, latent_size)\n",
        "\n",
        "        self.fc21 = nn.Linear(latent_size, 100)\n",
        "        self.fc22 = nn.Linear(100, H)\n",
        "        \n",
        "        # called \"XXX_loc\" since in Bayesian setting, we may also need \"XXX_scale\"\n",
        "        self.lambd_tilde_loc = nn.Parameter(torch.tensor(0.))\n",
        "        self.C_loc = nn.Parameter(torch.randn(23, 40))\n",
        "        self.W_tilde_loc = nn.Parameter(torch.randn(input_size//23, 40, H)) # L * E * H\n",
        "        self.S_tilde_loc = nn.Parameter(torch.randn(H//4, input_size//23) * 4 - 12)\n",
        "        \n",
        "        self.b3 = nn.Parameter(torch.randn(input_size//23, 23))\n",
        "\n",
        "        self.device = device\n",
        "    \n",
        "    def encoder(self, x):\n",
        "        x = nn.functional.one_hot(x, num_classes=23).float().reshape(x.shape[0], -1)\n",
        "        hidden = nn.ReLU()(self.fc11(x))\n",
        "        hidden = nn.ReLU()(self.fc12(hidden))\n",
        "        z_mu = self.fc131(hidden)\n",
        "        z_sd = torch.exp(self.fc132(hidden))\n",
        "\n",
        "        return z_mu, z_sd\n",
        "\n",
        "    def decoder(self, z):\n",
        "        hidden = nn.ReLU()(self.fc21(z))\n",
        "        hidden = nn.Sigmoid()(self.fc22(hidden)) \n",
        "        \n",
        "\n",
        "        lambd_tilde = self.lambd_tilde_loc\n",
        "        C = self.C_loc\n",
        "        S_tilde = self.S_tilde_loc\n",
        "        W_tilde = self.W_tilde_loc\n",
        "\n",
        "        S = torch.cat([1 / (torch.exp(-S_tilde.clone()) + 1) for i in range(4)], dim=0)\n",
        "        hidden = hidden[:, :, np.newaxis].expand([z.shape[0], H, S.shape[-1]])\n",
        "        Sh = torch.permute((hidden * S), (0, 2, 1))[:, :, :,np.newaxis] # B * L * H * 1\n",
        "        hidden = torch.log(torch.exp(lambd_tilde) + 1) * C @ W_tilde @ Sh #B L q 1\n",
        "        hidden = hidden[:, :, :, 0] + self.b3 #B * L * q\n",
        "\n",
        "        return hidden\n",
        "        \n",
        "    \n",
        "    def forward(self, x, mc_samples=1, regularization_factor=1., return_MAP=True):\n",
        "        z_mu, z_sd = self.encoder(x)\n",
        "\n",
        "        # prior distribution\n",
        "        prior = torch.distributions.Normal(0., 1.)\n",
        "        posterior = torch.distributions.Normal(z_mu, z_sd)\n",
        "\n",
        "        # since both prior and posterior are diag-Gaussian, the KL divergence between q(z|x) and p(z) is just the sum of the KL divergence in each dimension\n",
        "        KL_post_prior = torch.sum(torch.distributions.kl.kl_divergence(posterior, prior), dim=-1)\n",
        "\n",
        "        # E_q[p(x|z)] (sum because p(x|z) = p(x1|z)p(x2|z)...)\n",
        "        z = torch.randn_like(z_mu) * z_sd + z_mu\n",
        "        x_logit = self.decoder(z)\n",
        "        Ep = torch.sum(torch.distributions.Categorical(logits=x_logit).log_prob(x), dim=-1)\n",
        "        for sample in range(mc_samples-1):\n",
        "            z = torch.randn_like(z_mu) * z_sd + z_mu\n",
        "            x_logit = self.decoder(z)\n",
        "            Ep += torch.sum(torch.distributions.Categorical(logits=x_logit).log_prob(x), dim=-1)\n",
        "        Ep = Ep / mc_samples\n",
        "\n",
        "        ELBO = torch.sum(Ep - KL_post_prior)\n",
        "        \n",
        "        if return_MAP:\n",
        "            # lambda distribution\n",
        "            prior_lambd_tilde = torch.distributions.Normal(0., 1.)\n",
        "            regular_lambda_tilde = torch.sum(prior_lambd_tilde.log_prob(self.lambd_tilde_loc))\n",
        "\n",
        "            # C distribution\n",
        "            prior_C = torch.distributions.Normal(0., 1.)\n",
        "            regular_C = torch.sum(prior_C.log_prob(self.C_loc))\n",
        "\n",
        "            # W distribution\n",
        "            prior_W_tilde = torch.distributions.Normal(0., 1.)\n",
        "            regular_W_tilde = torch.sum(prior_W_tilde.log_prob(self.W_tilde_loc))\n",
        "\n",
        "            # S distribution\n",
        "            prior_S_tilde = torch.distributions.Normal(-12.36, 4.)\n",
        "            regular_S_tilde = torch.sum(prior_S_tilde.log_prob(self.S_tilde_loc))\n",
        "\n",
        "            ELBO = ELBO + (regular_lambda_tilde + regular_C + regular_W_tilde + regular_S_tilde) * regularization_factor\n",
        "\n",
        "\n",
        "        return ELBO, z_mu, z_sd\n",
        "    def forward_IWAE(self, x, mc_samples_l=1, mc_samples_k=10, regularization_factor=1, return_MAP=True):\n",
        "\n",
        "        z_mu, z_sd = self.encoder(x)\n",
        "        \n",
        "        # prior distribution\n",
        "        prior = torch.distributions.Normal(0., 1.)\n",
        "        posterior = torch.distributions.Normal(z_mu, z_sd)\n",
        "\n",
        "        LOG_Ps = []\n",
        "        for s in range(mc_samples_l):\n",
        "            log_p = []\n",
        "            for sample in range(mc_samples_k):\n",
        "                z = torch.randn_like(z_mu) * z_sd + z_mu\n",
        "                x_logit = self.decoder(z)\n",
        "                log_p.append(\n",
        "                    torch.sum(torch.distributions.Categorical(logits=x_logit).log_prob(x), dim=-1, keepdim=True) + \\\n",
        "                    torch.sum(prior.log_prob(z) - posterior.log_prob(z), dim=-1, keepdim=True))\n",
        "            log_p = torch.cat(log_p, dim=-1)\n",
        "\n",
        "            # To avoid numerical unstable\n",
        "            log_p_max = torch.max(log_p, dim=-1, keepdim=True)[0]\n",
        "            LOG_Ps.append(torch.log(torch.sum(torch.exp(log_p - log_p_max), dim=-1, keepdim=True) / mc_samples_k) + log_p_max)\n",
        "        LOG_Ps = torch.sum(torch.cat(LOG_Ps, dim=-1), dim=-1) / mc_samples_l\n",
        "        \n",
        "        L_IWAE = torch.sum(LOG_Ps)\n",
        "        \n",
        "        if return_MAP:\n",
        "            # lambda distribution\n",
        "            prior_lambd_tilde = torch.distributions.Normal(0., 1.)\n",
        "            regular_lambda_tilde = torch.sum(prior_lambd_tilde.log_prob(self.lambd_tilde_loc))\n",
        "\n",
        "            # C distribution\n",
        "            prior_C = torch.distributions.Normal(0., 1.)\n",
        "            regular_C = torch.sum(prior_C.log_prob(self.C_loc))\n",
        "\n",
        "            # W distribution\n",
        "            prior_W_tilde = torch.distributions.Normal(0., 1.)\n",
        "            regular_W_tilde = torch.sum(prior_W_tilde.log_prob(self.W_tilde_loc))\n",
        "\n",
        "            # S distribution\n",
        "            prior_S_tilde = torch.distributions.Normal(-12.36, 4.)\n",
        "            regular_S_tilde = torch.sum(prior_S_tilde.log_prob(self.S_tilde_loc))\n",
        "\n",
        "            L_IWAE = L_IWAE + (regular_lambda_tilde + regular_C + regular_W_tilde + regular_S_tilde) * regularization_factor\n",
        "\n",
        "\n",
        "        return L_IWAE, z_mu, z_sd\n",
        "    \n"
      ],
      "metadata": {
        "execution": {
          "iopub.status.busy": "2022-01-08T21:44:08.654952Z",
          "iopub.execute_input": "2022-01-08T21:44:08.655318Z",
          "iopub.status.idle": "2022-01-08T21:44:08.680357Z",
          "shell.execute_reply.started": "2022-01-08T21:44:08.655284Z",
          "shell.execute_reply": "2022-01-08T21:44:08.679664Z"
        },
        "trusted": true,
        "id": "A0HDr6hJxvFR"
      },
      "execution_count": null,
      "outputs": []
    },
    {
      "cell_type": "code",
      "source": [
        "def train(model, dl, optimizer, device, regularization_factor):\n",
        "    ELBOs = []\n",
        "    for i in dl:\n",
        "        optimizer.zero_grad()\n",
        "        ELBO, _, _ = model(i[0].to(device), mc_samples=1, regularization_factor=regularization_factor, return_MAP=True)\n",
        "        loss = -ELBO\n",
        "        loss.backward()\n",
        "        nn.utils.clip_grad_norm_(model.parameters(), 1)\n",
        "        optimizer.step()\n",
        "        ELBOs.append(ELBO.item())\n",
        "    return sum(ELBOs) / len(ELBOs)"
      ],
      "metadata": {
        "execution": {
          "iopub.status.busy": "2022-01-08T21:44:08.681407Z",
          "iopub.execute_input": "2022-01-08T21:44:08.681794Z",
          "iopub.status.idle": "2022-01-08T21:44:08.692790Z",
          "shell.execute_reply.started": "2022-01-08T21:44:08.681758Z",
          "shell.execute_reply": "2022-01-08T21:44:08.691800Z"
        },
        "trusted": true,
        "id": "URqM-9cNxvFS"
      },
      "execution_count": null,
      "outputs": []
    },
    {
      "cell_type": "code",
      "source": [
        "input_size = next(iter(dataloader))[0].shape[1] * 23\n",
        "DEVICE = \"cuda\"\n",
        "deepseq = DeepSeq_MAP(input_size, 30, device=DEVICE).to(DEVICE)\n",
        "deepseq_dim_2 = DeepSeq_MAP(input_size, 2, device=DEVICE).to(DEVICE)"
      ],
      "metadata": {
        "execution": {
          "iopub.status.busy": "2022-01-08T21:44:08.693968Z",
          "iopub.execute_input": "2022-01-08T21:44:08.694299Z",
          "iopub.status.idle": "2022-01-08T21:44:09.029716Z",
          "shell.execute_reply.started": "2022-01-08T21:44:08.694261Z",
          "shell.execute_reply": "2022-01-08T21:44:09.028971Z"
        },
        "trusted": true,
        "id": "8XvzfzyVxvFS"
      },
      "execution_count": null,
      "outputs": []
    },
    {
      "cell_type": "code",
      "source": [
        "# train the model\n",
        "EPOCH = 200\n",
        "ELBOs = []\n",
        "for epoch in tqdm(range(EPOCH)):\n",
        "    ELBOs.append(train(deepseq_dim_2, dataloader_weighted, Adam(deepseq_dim_2.parameters(), lr=0.0004), DEVICE, 1.0))"
      ],
      "metadata": {
        "colab": {
          "base_uri": "https://localhost:8080/"
        },
        "id": "PJv-HI7HybOK",
        "outputId": "34df50e8-0aba-45d4-db0b-fdce04a1237d"
      },
      "execution_count": null,
      "outputs": [
        {
          "output_type": "stream",
          "name": "stderr",
          "text": [
            "100%|██████████| 200/200 [1:02:41<00:00, 18.81s/it]\n"
          ]
        }
      ]
    },
    {
      "cell_type": "code",
      "source": [
        "plt.rcParams[\"figure.figsize\"] = (6, 4)\n",
        "plt.plot(ELBOs[:])"
      ],
      "metadata": {
        "colab": {
          "base_uri": "https://localhost:8080/",
          "height": 294
        },
        "id": "CE73N7TW8PX9",
        "outputId": "fc0c6851-0fc1-4d9c-cd20-0cfd0805f03f"
      },
      "execution_count": null,
      "outputs": [
        {
          "output_type": "execute_result",
          "data": {
            "text/plain": [
              "[<matplotlib.lines.Line2D at 0x7f4916b28050>]"
            ]
          },
          "metadata": {},
          "execution_count": 27
        },
        {
          "output_type": "display_data",
          "data": {
            "image/png": "[encoded data removed]",
            "text/plain": [
              "<Figure size 432x288 with 1 Axes>"
            ]
          },
          "metadata": {
            "needs_background": "light"
          }
        }
      ]
    },
    {
      "cell_type": "code",
      "source": [
        "PATH = \"/content/drive/MyDrive/PML-project/\" + \"deepseq_MAP_dim_2.pkl\"\n",
        "#torch.save(deepseq_dim_2.state_dict(),PATH)\n",
        "#deepseq_dim_2.load_state_dict(torch.load(PATH))"
      ],
      "metadata": {
        "colab": {
          "base_uri": "https://localhost:8080/"
        },
        "id": "cIVeIEhJymfW",
        "outputId": "5c9b75ed-8922-4875-d5fe-92eef8e3c4c6"
      },
      "execution_count": null,
      "outputs": [
        {
          "output_type": "execute_result",
          "data": {
            "text/plain": [
              "<All keys matched successfully>"
            ]
          },
          "metadata": {},
          "execution_count": 28
        }
      ]
    },
    {
      "cell_type": "code",
      "source": [
        "Zs = []\n",
        "labels = []\n",
        "with torch.no_grad():\n",
        "    for i in dataloader:\n",
        "        z_mu, _ = deepseq_dim_2.encoder((i[0].to(DEVICE)))\n",
        "        Zs.append(z_mu.cpu())\n",
        "        labels.append(i[1])\n",
        "Zs = torch.cat(Zs).numpy()\n",
        "labels = torch.cat(labels).numpy()\n",
        "plt.rcParams[\"figure.figsize\"] = (10, 10)\n",
        "for idx, name in enumerate(phyla):\n",
        "    plt.scatter(Zs[labels == idx, 0], Zs[labels == idx, 1], s=3, label=name)\n",
        "plt.legend()\n",
        "plt.show()"
      ],
      "metadata": {
        "execution": {
          "iopub.status.busy": "2022-01-08T22:16:00.787447Z",
          "iopub.execute_input": "2022-01-08T22:16:00.787859Z",
          "iopub.status.idle": "2022-01-08T22:16:00.791717Z",
          "shell.execute_reply.started": "2022-01-08T22:16:00.787809Z",
          "shell.execute_reply": "2022-01-08T22:16:00.790894Z"
        },
        "trusted": true,
        "colab": {
          "base_uri": "https://localhost:8080/",
          "height": 592
        },
        "id": "JlysIjiQxvFU",
        "outputId": "9957f7a6-44d1-4a24-fb58-849166a5211d"
      },
      "execution_count": null,
      "outputs": [
        {
          "output_type": "display_data",
          "data": {
            "image/png": "[encoded data removed]",
            "text/plain": [
              "<Figure size 720x720 with 1 Axes>"
            ]
          },
          "metadata": {
            "needs_background": "light"
          }
        }
      ]
    },
    {
      "cell_type": "code",
      "source": [
        "# train the model\n",
        "EPOCH = 100\n",
        "ELBOs = []\n",
        "for epoch in tqdm(range(EPOCH)):\n",
        "    ELBOs.append(train(deepseq, dataloader_weighted, Adam(deepseq.parameters(), lr=0.0004), DEVICE, 1))"
      ],
      "metadata": {
        "execution": {
          "iopub.status.busy": "2022-01-09T00:51:36.371653Z",
          "iopub.execute_input": "2022-01-09T00:51:36.371925Z",
          "iopub.status.idle": "2022-01-09T01:14:47.799264Z",
          "shell.execute_reply.started": "2022-01-09T00:51:36.371895Z",
          "shell.execute_reply": "2022-01-09T01:14:47.798083Z"
        },
        "trusted": true,
        "colab": {
          "base_uri": "https://localhost:8080/"
        },
        "id": "kzx1umcdxvFT",
        "outputId": "6c586c10-40c2-4f4e-c73b-ca1065f79792"
      },
      "execution_count": null,
      "outputs": [
        {
          "output_type": "stream",
          "name": "stderr",
          "text": [
            "100%|██████████| 100/100 [31:17<00:00, 18.78s/it]\n"
          ]
        }
      ]
    },
    {
      "cell_type": "code",
      "source": [
        "plt.rcParams[\"figure.figsize\"] = (6, 4)\n",
        "plt.plot(ELBOs[:])"
      ],
      "metadata": {
        "execution": {
          "iopub.status.busy": "2022-01-09T01:14:49.819784Z",
          "iopub.execute_input": "2022-01-09T01:14:49.820253Z",
          "iopub.status.idle": "2022-01-09T01:14:50.013312Z",
          "shell.execute_reply.started": "2022-01-09T01:14:49.820218Z",
          "shell.execute_reply": "2022-01-09T01:14:50.012645Z"
        },
        "trusted": true,
        "colab": {
          "base_uri": "https://localhost:8080/",
          "height": 294
        },
        "id": "3bgwtn-9xvFT",
        "outputId": "cca72c30-4d21-4a52-cb54-11183459f1f1"
      },
      "execution_count": null,
      "outputs": [
        {
          "output_type": "execute_result",
          "data": {
            "text/plain": [
              "[<matplotlib.lines.Line2D at 0x7f47f529d4d0>]"
            ]
          },
          "metadata": {},
          "execution_count": 68
        },
        {
          "output_type": "display_data",
          "data": {
            "image/png": "[encoded data removed]",
            "text/plain": [
              "<Figure size 432x288 with 1 Axes>"
            ]
          },
          "metadata": {
            "needs_background": "light"
          }
        }
      ]
    },
    {
      "cell_type": "code",
      "source": [
        "PATH = \"/content/drive/MyDrive/PML-project/\" + \"deepseq_MAP.pkl\"\n",
        "#torch.save(deepseq.state_dict(),PATH)\n",
        "#deepseq.load_state_dict(torch.load(PATH))"
      ],
      "metadata": {
        "colab": {
          "base_uri": "https://localhost:8080/"
        },
        "id": "F2DxFbvAx8R5",
        "outputId": "da718c7d-6ac7-4cff-bac7-0a13a7c5ab62"
      },
      "execution_count": null,
      "outputs": [
        {
          "output_type": "execute_result",
          "data": {
            "text/plain": [
              "<All keys matched successfully>"
            ]
          },
          "metadata": {},
          "execution_count": 48
        }
      ]
    },
    {
      "cell_type": "code",
      "source": [
        "# Check the reconstruct accuracy (make sure it learns normally)\n",
        "acc = []\n",
        "for i in range(len(dataset)):\n",
        "    raw_sequence = dataset[i][0][np.newaxis, :].to(DEVICE)\n",
        "    z_mu, _ = deepseq.encoder(raw_sequence)\n",
        "    acc.append(torch.argmax(deepseq.decoder(z_mu), dim=-1) == raw_sequence)\n",
        "acc = np.mean(torch.cat(acc, dim=0).cpu().numpy())\n",
        "print(\"Reconstruct Accuracy:\", acc)"
      ],
      "metadata": {
        "execution": {
          "iopub.status.busy": "2022-01-09T01:14:55.607912Z",
          "iopub.execute_input": "2022-01-09T01:14:55.608566Z",
          "iopub.status.idle": "2022-01-09T01:15:18.781645Z",
          "shell.execute_reply.started": "2022-01-09T01:14:55.608532Z",
          "shell.execute_reply": "2022-01-09T01:15:18.780775Z"
        },
        "trusted": true,
        "colab": {
          "base_uri": "https://localhost:8080/"
        },
        "id": "G8GD4GsxxvFU",
        "outputId": "9af3e86c-2d2e-43bc-b8ed-3fafd9272c7c"
      },
      "execution_count": null,
      "outputs": [
        {
          "output_type": "stream",
          "name": "stdout",
          "text": [
            "Reconstruct Accuracy: 0.7049930876424886\n"
          ]
        }
      ]
    },
    {
      "cell_type": "code",
      "source": [
        ""
      ],
      "metadata": {
        "id": "CJnSLk3HxvFV"
      },
      "execution_count": null,
      "outputs": []
    },
    {
      "cell_type": "code",
      "source": [
        "! wget https://sid.erda.dk/share_redirect/a5PTfl88w0/BLAT_ECOLX_Ranganathan2015.csv\n",
        "\n",
        "# Read in the experimental data, codes by Wooter from https://colab.research.google.com/github/wouterboomsma/pml_vae_project/blob/main/protein_vae_data_processing.ipynb\n",
        "\n",
        "def read_experimental_data(filename, alignment_data, measurement_col_name = '2500', sequence_offset=0):\n",
        "    '''Read experimental data from csv file, and check that amino acid match those \n",
        "       in the first sequence of the alignment.\n",
        "       \n",
        "       measurement_col_name specifies which column in the csv file contains the experimental \n",
        "       observation. In our case, this is the one called 2500.\n",
        "       \n",
        "       sequence_offset is used in case there is an overall offset between the\n",
        "       indices in the two files.\n",
        "       '''\n",
        "    \n",
        "    measurement_df = pd.read_csv(filename, delimiter=',', usecols=['mutant', measurement_col_name])\n",
        "    \n",
        "    wt_sequence, wt_label = alignment_data[0]\n",
        "    \n",
        "    zero_index = None\n",
        "    \n",
        "    experimental_data = {}\n",
        "    for idx, entry in measurement_df.iterrows():\n",
        "        mutant_from, position, mutant_to = entry['mutant'][:1],int(entry['mutant'][1:-1]),entry['mutant'][-1:]  \n",
        "        \n",
        "        # Use index of first entry as offset (keep track of this in case \n",
        "        # there are index gaps in experimental data)\n",
        "        if zero_index is None:\n",
        "            zero_index = position\n",
        "            \n",
        "        # Corresponding position in our alignment\n",
        "        seq_position = position-zero_index+sequence_offset\n",
        "            \n",
        "        # Make sure that two two inputs agree on the indices: the \n",
        "        # amino acids in the first entry of the alignment should be \n",
        "        # identical to those in the experimental file.\n",
        "        assert mutant_from == aa1[wt_sequence[seq_position]]  \n",
        "        \n",
        "        if seq_position not in experimental_data:\n",
        "            experimental_data[seq_position] = {}\n",
        "        \n",
        "        # Check that there is only a single experimental value for mutant\n",
        "        assert mutant_to not in experimental_data[seq_position]\n",
        "        \n",
        "        experimental_data[seq_position]['pos'] = seq_position\n",
        "        experimental_data[seq_position]['WT'] = mutant_from\n",
        "        experimental_data[seq_position][mutant_to] = entry[measurement_col_name]\n",
        "    \n",
        "    experimental_data = pd.DataFrame(experimental_data).transpose().set_index(['pos', 'WT'])\n",
        "    return experimental_data\n",
        "        \n",
        "        \n",
        "experimental_data = read_experimental_data(\"BLAT_ECOLX_Ranganathan2015.csv\", dataset)\n",
        "# For each of the entries in the dataframe above, you should calculate\n",
        "# the corresponding difference in ELBO from your VAE, and then finally\n",
        "# calculate a Spearman correlation between the two.\n",
        "\n",
        "# # You can iterate over all experimental values like this:\n",
        "# for (position, mutant_from), row in experimental_data.iterrows():\n",
        "#     print(position, mutant_from)   # mutant from is the wild type (wt)\n",
        "#     for mutant_to, exp_value in row.iteritems():\n",
        "#         print(\"\\t\", mutant_to, exp_value) "
      ],
      "metadata": {
        "execution": {
          "iopub.status.busy": "2022-01-09T01:15:26.970256Z",
          "iopub.execute_input": "2022-01-09T01:15:26.970595Z",
          "iopub.status.idle": "2022-01-09T01:15:34.695535Z",
          "shell.execute_reply.started": "2022-01-09T01:15:26.970561Z",
          "shell.execute_reply": "2022-01-09T01:15:34.694565Z"
        },
        "trusted": true,
        "colab": {
          "base_uri": "https://localhost:8080/"
        },
        "id": "3iANJeonxvFV",
        "outputId": "a6e07b38-6f03-4801-8193-226c9fdbbe30"
      },
      "execution_count": null,
      "outputs": [
        {
          "output_type": "stream",
          "name": "stdout",
          "text": [
            "--2022-01-09 12:47:50--  https://sid.erda.dk/share_redirect/a5PTfl88w0/BLAT_ECOLX_Ranganathan2015.csv\n",
            "Resolving sid.erda.dk (sid.erda.dk)... 130.225.104.13\n",
            "Connecting to sid.erda.dk (sid.erda.dk)|130.225.104.13|:443... connected.\n",
            "HTTP request sent, awaiting response... 200 OK\n",
            "Length: 1216640 (1.2M) [text/csv]\n",
            "Saving to: ‘BLAT_ECOLX_Ranganathan2015.csv.1’\n",
            "\n",
            "BLAT_ECOLX_Ranganat 100%[===================>]   1.16M  1.29MB/s    in 0.9s    \n",
            "\n",
            "2022-01-09 12:47:51 (1.29 MB/s) - ‘BLAT_ECOLX_Ranganathan2015.csv.1’ saved [1216640/1216640]\n",
            "\n"
          ]
        }
      ]
    },
    {
      "cell_type": "code",
      "source": [
        "raw_sequence = dataset[0][0][np.newaxis, :].to(DEVICE)\n",
        "experiment_value = []\n",
        "predicted_value = []\n",
        "with torch.no_grad():\n",
        "    log_x_wt_ELBO, _, _ = deepseq(raw_sequence, 100, return_MAP=False)\n",
        "    for (position, mutant_from), row in tqdm(experimental_data.iterrows()):\n",
        "        assert aa1_to_index[mutant_from] == raw_sequence[0, position]\n",
        "        for mutant_to, exp_value in row.iteritems():\n",
        "            if mutant_to != mutant_from:\n",
        "                new_sequence = raw_sequence.clone()\n",
        "                new_sequence[0, position] = aa1_to_index[mutant_to]\n",
        "                experiment_value.append(exp_value)\n",
        "                log_x_mt_ELBO, _, _ = deepseq(new_sequence, 100, return_MAP=False)\n",
        "                predicted_value.append((log_x_mt_ELBO - log_x_wt_ELBO).item())"
      ],
      "metadata": {
        "execution": {
          "iopub.status.busy": "2022-01-09T01:16:25.428987Z",
          "iopub.execute_input": "2022-01-09T01:16:25.429629Z",
          "iopub.status.idle": "2022-01-09T01:18:52.332628Z",
          "shell.execute_reply.started": "2022-01-09T01:16:25.429586Z",
          "shell.execute_reply": "2022-01-09T01:18:52.331901Z"
        },
        "trusted": true,
        "colab": {
          "base_uri": "https://localhost:8080/"
        },
        "id": "SEk6OIAVxvFW",
        "outputId": "064c101e-81ec-42b6-8f5b-e42221baf081"
      },
      "execution_count": null,
      "outputs": [
        {
          "output_type": "stream",
          "name": "stderr",
          "text": [
            "263it [23:32,  5.37s/it]\n"
          ]
        }
      ]
    },
    {
      "cell_type": "code",
      "source": [
        "spearmanr(experiment_value, predicted_value)"
      ],
      "metadata": {
        "execution": {
          "iopub.status.busy": "2022-01-09T01:19:03.737765Z",
          "iopub.execute_input": "2022-01-09T01:19:03.738098Z",
          "iopub.status.idle": "2022-01-09T01:19:03.755653Z",
          "shell.execute_reply.started": "2022-01-09T01:19:03.738061Z",
          "shell.execute_reply": "2022-01-09T01:19:03.755054Z"
        },
        "trusted": true,
        "colab": {
          "base_uri": "https://localhost:8080/"
        },
        "id": "XgBXWSrRxvFW",
        "outputId": "ce29b641-e019-4ac6-ee3f-0096740ca3d5"
      },
      "execution_count": null,
      "outputs": [
        {
          "output_type": "execute_result",
          "data": {
            "text/plain": [
              "SpearmanrResult(correlation=0.7080994222885856, pvalue=0.0)"
            ]
          },
          "metadata": {},
          "execution_count": 52
        }
      ]
    },
    {
      "cell_type": "code",
      "source": [
        ""
      ],
      "metadata": {
        "id": "0RLqTA5VxvFW"
      },
      "execution_count": null,
      "outputs": []
    }
  ]
}