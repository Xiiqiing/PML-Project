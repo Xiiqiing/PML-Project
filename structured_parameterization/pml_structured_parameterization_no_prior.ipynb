{
  "metadata": {
    "kernelspec": {
      "language": "python",
      "display_name": "Python 3",
      "name": "python3"
    },
    "language_info": {
      "name": "python",
      "version": "3.7.12",
      "mimetype": "text/x-python",
      "codemirror_mode": {
        "name": "ipython",
        "version": 3
      },
      "pygments_lexer": "ipython3",
      "nbconvert_exporter": "python",
      "file_extension": ".py"
    },
    "colab": {
      "name": "pml-structured-parameterization-no-prior.ipynb",
      "provenance": [],
      "collapsed_sections": []
    },
    "accelerator": "GPU"
  },
  "nbformat_minor": 0,
  "nbformat": 4,
  "cells": [
    {
      "cell_type": "markdown",
      "source": [
        "# PML Project\n",
        "\n",
        "Data: 2022-01-15\n",
        "\n",
        "Author: Jiajun He\n",
        "\n",
        "Content: Structured Parameterization of the Decoder Networks, but no prior on these parameters. Also exploring overfitting at the same time"
      ],
      "metadata": {
        "id": "zwF5WzjgxvFJ"
      }
    },
    {
      "cell_type": "code",
      "source": [
        "!wget https://sid.erda.dk/share_redirect/a5PTfl88w0/BLAT_ECOLX_1_b0.5_labeled.fasta"
      ],
      "metadata": {
        "execution": {
          "iopub.status.busy": "2022-01-08T21:44:05.916931Z",
          "iopub.execute_input": "2022-01-08T21:44:05.917260Z",
          "iopub.status.idle": "2022-01-08T21:44:07.479169Z",
          "shell.execute_reply.started": "2022-01-08T21:44:05.917222Z",
          "shell.execute_reply": "2022-01-08T21:44:07.478358Z"
        },
        "trusted": true,
        "colab": {
          "base_uri": "https://localhost:8080/"
        },
        "id": "VjQYAUdJxvFN",
        "outputId": "2d530fba-c1af-459a-9257-64db777b0fe2"
      },
      "execution_count": null,
      "outputs": [
        {
          "output_type": "stream",
          "name": "stdout",
          "text": [
            "--2022-01-15 11:34:20--  https://sid.erda.dk/share_redirect/a5PTfl88w0/BLAT_ECOLX_1_b0.5_labeled.fasta\n",
            "Resolving sid.erda.dk (sid.erda.dk)... 130.225.104.13\n",
            "Connecting to sid.erda.dk (sid.erda.dk)|130.225.104.13|:443... connected.\n",
            "HTTP request sent, awaiting response... 200 OK\n",
            "Length: 2441075 (2.3M)\n",
            "Saving to: ‘BLAT_ECOLX_1_b0.5_labeled.fasta’\n",
            "\n",
            "BLAT_ECOLX_1_b0.5_l 100%[===================>]   2.33M  3.04MB/s    in 0.8s    \n",
            "\n",
            "2022-01-15 11:34:21 (3.04 MB/s) - ‘BLAT_ECOLX_1_b0.5_labeled.fasta’ saved [2441075/2441075]\n",
            "\n"
          ]
        }
      ]
    },
    {
      "cell_type": "code",
      "source": [
        "from google.colab import drive\n",
        "drive.mount('/content/drive')"
      ],
      "metadata": {
        "colab": {
          "base_uri": "https://localhost:8080/"
        },
        "id": "lhJvBmGuxxgs",
        "outputId": "f2929a29-0180-4bf1-a366-695f4aa663e2"
      },
      "execution_count": null,
      "outputs": [
        {
          "output_type": "stream",
          "name": "stdout",
          "text": [
            "Mounted at /content/drive\n"
          ]
        }
      ]
    },
    {
      "cell_type": "code",
      "source": [
        "# parsing the FASTA file, codes from https://colab.research.google.com/github/wouterboomsma/pml_vae_project/blob/main/protein_vae_data_processing.ipynb\n",
        "import os\n",
        "import re\n",
        "import numpy as np\n",
        "import torch\n",
        "import torch.nn.functional as F\n",
        "import pandas as pd\n",
        "\n",
        "# FASTA parser requires Biopython\n",
        "try:\n",
        "    from Bio import SeqIO\n",
        "except:\n",
        "    !pip install biopython\n",
        "    from Bio import SeqIO\n",
        "    \n",
        "# Retrieve protein alignment file\n",
        "if not os.path.exists('BLAT_ECOLX_1_b0.5_labeled.fasta'):\n",
        "    !wget https://sid.erda.dk/share_redirect/a5PTfl88w0/BLAT_ECOLX_1_b0.5_labeled.fasta\n",
        "        \n",
        "# Retrieve file with experimental measurements\n",
        "if not os.path.exists('BLAT_ECOLX_Ranganathan2015.csv'):\n",
        "    !wget https://sid.erda.dk/share_redirect/a5PTfl88w0/BLAT_ECOLX_Ranganathan2015.csv\n",
        "        \n",
        "# Options\n",
        "batch_size = 16\n",
        "\n",
        "# Mapping from amino acids to integers\n",
        "aa1_to_index = {'A': 0, 'C': 1, 'D': 2, 'E': 3, 'F': 4, 'G': 5, 'H': 6,\n",
        "                'I': 7, 'K': 8, 'L': 9, 'M': 10, 'N': 11, 'P': 12,\n",
        "                'Q': 13, 'R': 14, 'S': 15, 'T': 16, 'V': 17, 'W': 18,\n",
        "                'Y': 19, 'X':20, 'Z': 21, '-': 22}\n",
        "aa1 = \"ACDEFGHIKLMNPQRSTVWYXZ-\"\n",
        "\n",
        "phyla = ['Acidobacteria', 'Actinobacteria', 'Bacteroidetes',\n",
        "         'Chloroflexi', 'Cyanobacteria', 'Deinococcus-Thermus',\n",
        "         'Firmicutes', 'Fusobacteria', 'Proteobacteria', 'Other']\n",
        "\n",
        "def get_data(data_filename, calc_weights=False, weights_similarity_threshold=0.8):\n",
        "    '''Create dataset from FASTA filename'''\n",
        "    ids = []\n",
        "    labels = []\n",
        "    seqs = []\n",
        "    label_re = re.compile(r'\\[([^\\]]*)\\]')\n",
        "    for record in SeqIO.parse(data_filename, \"fasta\"):\n",
        "        ids.append(record.id)       \n",
        "        seqs.append(np.array([aa1_to_index[aa] for aa in str(record.seq).upper().replace('.', '-')]))\n",
        "        \n",
        "        label = label_re.search(record.description).group(1)\n",
        "        # Only use most common classes\n",
        "        if label not in phyla:\n",
        "            label = 'Other'\n",
        "        labels.append(label)\n",
        "                \n",
        "    seqs = torch.from_numpy(np.vstack(seqs))\n",
        "    labels = np.array(labels)\n",
        "    \n",
        "    phyla_lookup_table, phyla_idx = np.unique(labels, return_inverse=True)\n",
        "\n",
        "    dataset = torch.utils.data.TensorDataset(*[seqs, torch.from_numpy(phyla_idx)])\n",
        "    \n",
        "    \n",
        "    weights = None\n",
        "    if calc_weights is not False:\n",
        "\n",
        "        # Experiencing memory issues on colab for this code because pytorch doesn't\n",
        "        # allow one_hot directly to bool. Splitting in two and then merging.\n",
        "        # one_hot = F.one_hot(seqs.long()).to('cuda' if torch.cuda.is_available() else 'cpu')\n",
        "        one_hot1 = F.one_hot(seqs[:len(seqs)//2].long()).bool()\n",
        "        one_hot2 = F.one_hot(seqs[len(seqs)//2:].long()).bool()\n",
        "        one_hot = torch.cat([one_hot1, one_hot2]).to('cuda' if torch.cuda.is_available() else 'cpu')\n",
        "        assert(len(seqs) == len(one_hot))\n",
        "        del one_hot1\n",
        "        del one_hot2\n",
        "        one_hot[seqs>19] = 0\n",
        "        flat_one_hot = one_hot.flatten(1)\n",
        "\n",
        "        weights = []\n",
        "        weight_batch_size = 1000\n",
        "        flat_one_hot = flat_one_hot.float()\n",
        "        for i in range(seqs.size(0) // weight_batch_size + 1):\n",
        "            x = flat_one_hot[i * weight_batch_size : (i + 1) * weight_batch_size]\n",
        "            similarities = torch.mm(x, flat_one_hot.T)\n",
        "            lengths = (seqs[i * weight_batch_size : (i + 1) * weight_batch_size] <=19).sum(1).unsqueeze(-1).to('cuda' if torch.cuda.is_available() else 'cpu')\n",
        "            w = 1.0 / (similarities / lengths).gt(weights_similarity_threshold).sum(1).float()\n",
        "            weights.append(w)\n",
        "            \n",
        "        weights = torch.cat(weights)\n",
        "        neff = weights.sum()\n",
        "\n",
        "    return dataset, weights\n",
        "\n",
        "\n",
        "dataset, weights = get_data('BLAT_ECOLX_1_b0.5_labeled.fasta', calc_weights=True)\n",
        "dataloader = torch.utils.data.DataLoader(dataset, batch_size=batch_size, shuffle=True)\n",
        "dataloader_weighted = torch.utils.data.DataLoader(dataset, batch_size=batch_size, sampler=torch.utils.data.sampler.WeightedRandomSampler(weights, num_samples=len(dataset)))"
      ],
      "metadata": {
        "execution": {
          "iopub.status.busy": "2022-01-08T21:44:07.481640Z",
          "iopub.execute_input": "2022-01-08T21:44:07.482220Z",
          "iopub.status.idle": "2022-01-08T21:44:08.635843Z",
          "shell.execute_reply.started": "2022-01-08T21:44:07.482154Z",
          "shell.execute_reply": "2022-01-08T21:44:08.634987Z"
        },
        "trusted": true,
        "colab": {
          "base_uri": "https://localhost:8080/"
        },
        "id": "BBLMaRI2xvFO",
        "outputId": "0b72a357-00a4-4db0-e27c-44a9c2d7ef20"
      },
      "execution_count": null,
      "outputs": [
        {
          "output_type": "stream",
          "name": "stdout",
          "text": [
            "Collecting biopython\n",
            "  Downloading biopython-1.79-cp37-cp37m-manylinux_2_5_x86_64.manylinux1_x86_64.whl (2.3 MB)\n",
            "\u001b[K     |████████████████████████████████| 2.3 MB 5.0 MB/s \n",
            "\u001b[?25hRequirement already satisfied: numpy in /usr/local/lib/python3.7/dist-packages (from biopython) (1.19.5)\n",
            "Installing collected packages: biopython\n",
            "Successfully installed biopython-1.79\n",
            "--2022-01-15 11:36:25--  https://sid.erda.dk/share_redirect/a5PTfl88w0/BLAT_ECOLX_Ranganathan2015.csv\n",
            "Resolving sid.erda.dk (sid.erda.dk)... 130.225.104.13\n",
            "Connecting to sid.erda.dk (sid.erda.dk)|130.225.104.13|:443... connected.\n",
            "HTTP request sent, awaiting response... 200 OK\n",
            "Length: 1216640 (1.2M) [text/csv]\n",
            "Saving to: ‘BLAT_ECOLX_Ranganathan2015.csv’\n",
            "\n",
            "BLAT_ECOLX_Ranganat 100%[===================>]   1.16M  1.77MB/s    in 0.7s    \n",
            "\n",
            "2022-01-15 11:36:27 (1.77 MB/s) - ‘BLAT_ECOLX_Ranganathan2015.csv’ saved [1216640/1216640]\n",
            "\n"
          ]
        }
      ]
    },
    {
      "cell_type": "code",
      "source": [
        "import torch\n",
        "from torch.optim import Adam\n",
        "from torch import nn\n",
        "from tqdm import tqdm\n",
        "import matplotlib.pyplot as plt\n",
        "from scipy.stats import spearmanr"
      ],
      "metadata": {
        "execution": {
          "iopub.status.busy": "2022-01-08T21:44:08.637288Z",
          "iopub.execute_input": "2022-01-08T21:44:08.637561Z",
          "iopub.status.idle": "2022-01-08T21:44:08.641991Z",
          "shell.execute_reply.started": "2022-01-08T21:44:08.637524Z",
          "shell.execute_reply": "2022-01-08T21:44:08.641228Z"
        },
        "trusted": true,
        "id": "bY5SlBiNxvFQ"
      },
      "execution_count": null,
      "outputs": []
    },
    {
      "cell_type": "code",
      "source": [
        "global H\n",
        "H = 2000"
      ],
      "metadata": {
        "execution": {
          "iopub.status.busy": "2022-01-08T21:44:08.644347Z",
          "iopub.execute_input": "2022-01-08T21:44:08.644846Z",
          "iopub.status.idle": "2022-01-08T21:44:08.653562Z",
          "shell.execute_reply.started": "2022-01-08T21:44:08.644796Z",
          "shell.execute_reply": "2022-01-08T21:44:08.652717Z"
        },
        "trusted": true,
        "id": "oiflL_jwxvFQ"
      },
      "execution_count": null,
      "outputs": []
    },
    {
      "cell_type": "code",
      "source": [
        "class DeepSeq_MAP(nn.Module):\n",
        "    def __init__(self, input_size, latent_size, device):\n",
        "        super().__init__()\n",
        "        self.fc11 = nn.Linear(input_size, 1500) # 1500 is the number in the papar\n",
        "        self.fc12 = nn.Linear(1500, 1500)\n",
        "        self.fc131 = nn.Linear(1500, latent_size)\n",
        "        self.fc132 = nn.Linear(1500, latent_size)\n",
        "\n",
        "        self.fc21 = nn.Linear(latent_size, 100)\n",
        "        self.fc22 = nn.Linear(100, H)\n",
        "        \n",
        "        # called \"XXX_loc\" since in Bayesian setting, we may also need \"XXX_scale\"\n",
        "        self.lambd_tilde_loc = nn.Parameter(torch.tensor(0.))\n",
        "        self.C_loc = nn.Parameter(torch.randn(23, 40))\n",
        "        self.W_tilde_loc = nn.Parameter(torch.randn(input_size//23, 40, H)) # L * E * H\n",
        "        self.S_tilde_loc = nn.Parameter(torch.randn(H//4, input_size//23) * 4 - 12)\n",
        "        \n",
        "        self.b3 = nn.Parameter(torch.randn(input_size//23, 23))\n",
        "\n",
        "        self.device = device\n",
        "    \n",
        "    def encoder(self, x):\n",
        "        x = nn.functional.one_hot(x, num_classes=23).float().reshape(x.shape[0], -1)\n",
        "        hidden = nn.ReLU()(self.fc11(x))\n",
        "        hidden = nn.ReLU()(self.fc12(hidden))\n",
        "        z_mu = self.fc131(hidden)\n",
        "        z_sd = torch.exp(self.fc132(hidden))\n",
        "\n",
        "        return z_mu, z_sd\n",
        "\n",
        "    def decoder(self, z):\n",
        "        hidden = nn.ReLU()(self.fc21(z))\n",
        "        hidden = nn.Sigmoid()(self.fc22(hidden)) \n",
        "        \n",
        "\n",
        "        lambd_tilde = self.lambd_tilde_loc\n",
        "        C = self.C_loc\n",
        "        S_tilde = self.S_tilde_loc\n",
        "        W_tilde = self.W_tilde_loc\n",
        "\n",
        "        S = torch.cat([1 / (torch.exp(-S_tilde.clone()) + 1) for i in range(4)], dim=0)\n",
        "        hidden = hidden[:, :, np.newaxis].expand([z.shape[0], H, S.shape[-1]])\n",
        "        Sh = torch.permute((hidden * S), (0, 2, 1))[:, :, :,np.newaxis] # B * L * H * 1\n",
        "        hidden = torch.log(torch.exp(lambd_tilde) + 1) * C @ W_tilde @ Sh #B L q 1\n",
        "        hidden = hidden[:, :, :, 0] + self.b3 #B * L * q\n",
        "\n",
        "        return hidden\n",
        "        \n",
        "    \n",
        "    def forward(self, x, mc_samples=1):\n",
        "        z_mu, z_sd = self.encoder(x)\n",
        "\n",
        "        # prior distribution\n",
        "        prior = torch.distributions.Normal(0., 1.)\n",
        "        posterior = torch.distributions.Normal(z_mu, z_sd)\n",
        "\n",
        "        # since both prior and posterior are diag-Gaussian, the KL divergence between q(z|x) and p(z) is just the sum of the KL divergence in each dimension\n",
        "        KL_post_prior = torch.sum(torch.distributions.kl.kl_divergence(posterior, prior), dim=-1)\n",
        "\n",
        "        # E_q[p(x|z)] (sum because p(x|z) = p(x1|z)p(x2|z)...)\n",
        "        z = torch.randn_like(z_mu) * z_sd + z_mu\n",
        "        x_logit = self.decoder(z)\n",
        "        Ep = torch.sum(torch.distributions.Categorical(logits=x_logit).log_prob(x), dim=-1)\n",
        "        for sample in range(mc_samples-1):\n",
        "            z = torch.randn_like(z_mu) * z_sd + z_mu\n",
        "            x_logit = self.decoder(z)\n",
        "            Ep += torch.sum(torch.distributions.Categorical(logits=x_logit).log_prob(x), dim=-1)\n",
        "        Ep = Ep / mc_samples\n",
        "\n",
        "        ELBO = torch.sum(Ep - KL_post_prior)\n",
        "        \n",
        "\n",
        "        return ELBO, z_mu, z_sd\n"
      ],
      "metadata": {
        "execution": {
          "iopub.status.busy": "2022-01-08T21:44:08.654952Z",
          "iopub.execute_input": "2022-01-08T21:44:08.655318Z",
          "iopub.status.idle": "2022-01-08T21:44:08.680357Z",
          "shell.execute_reply.started": "2022-01-08T21:44:08.655284Z",
          "shell.execute_reply": "2022-01-08T21:44:08.679664Z"
        },
        "trusted": true,
        "id": "A0HDr6hJxvFR"
      },
      "execution_count": null,
      "outputs": []
    },
    {
      "cell_type": "code",
      "source": [
        "def train(model, dl, optimizer, device):\n",
        "    ELBOs = []\n",
        "    for i in dl:\n",
        "        optimizer.zero_grad()\n",
        "        ELBO, _, _ = model(i[0].to(device), mc_samples=1)\n",
        "        loss = -ELBO\n",
        "        loss.backward()\n",
        "        nn.utils.clip_grad_norm_(model.parameters(), 1)\n",
        "        optimizer.step()\n",
        "        ELBOs.append(ELBO.item())\n",
        "    return sum(ELBOs) / len(ELBOs)"
      ],
      "metadata": {
        "execution": {
          "iopub.status.busy": "2022-01-08T21:44:08.681407Z",
          "iopub.execute_input": "2022-01-08T21:44:08.681794Z",
          "iopub.status.idle": "2022-01-08T21:44:08.692790Z",
          "shell.execute_reply.started": "2022-01-08T21:44:08.681758Z",
          "shell.execute_reply": "2022-01-08T21:44:08.691800Z"
        },
        "trusted": true,
        "id": "URqM-9cNxvFS"
      },
      "execution_count": null,
      "outputs": []
    },
    {
      "cell_type": "code",
      "source": [
        "input_size = next(iter(dataloader))[0].shape[1] * 23\n",
        "DEVICE = \"cuda\"\n",
        "deepseq = DeepSeq_MAP(input_size, 30, device=DEVICE).to(DEVICE)\n",
        "deepseq_dim_2 = DeepSeq_MAP(input_size, 2, device=DEVICE).to(DEVICE)"
      ],
      "metadata": {
        "execution": {
          "iopub.status.busy": "2022-01-08T21:44:08.693968Z",
          "iopub.execute_input": "2022-01-08T21:44:08.694299Z",
          "iopub.status.idle": "2022-01-08T21:44:09.029716Z",
          "shell.execute_reply.started": "2022-01-08T21:44:08.694261Z",
          "shell.execute_reply": "2022-01-08T21:44:09.028971Z"
        },
        "trusted": true,
        "id": "8XvzfzyVxvFS"
      },
      "execution_count": null,
      "outputs": []
    },
    {
      "cell_type": "code",
      "source": [
        "# train the model\n",
        "EPOCH = 100\n",
        "ELBOs = []\n",
        "for epoch in tqdm(range(EPOCH)):\n",
        "    ELBOs.append(train(deepseq_dim_2, dataloader_weighted, Adam(deepseq_dim_2.parameters(), lr=0.0004), DEVICE))"
      ],
      "metadata": {
        "colab": {
          "base_uri": "https://localhost:8080/"
        },
        "id": "PJv-HI7HybOK",
        "outputId": "84a9bf50-247f-4745-85df-b6d1e49f61e8"
      },
      "execution_count": null,
      "outputs": [
        {
          "output_type": "stream",
          "name": "stderr",
          "text": [
            "100%|██████████| 100/100 [26:53<00:00, 16.14s/it]\n"
          ]
        }
      ]
    },
    {
      "cell_type": "code",
      "source": [
        "plt.rcParams[\"figure.figsize\"] = (6, 4)\n",
        "plt.plot(ELBOs[:])"
      ],
      "metadata": {
        "colab": {
          "base_uri": "https://localhost:8080/",
          "height": 283
        },
        "id": "CE73N7TW8PX9",
        "outputId": "bf326cae-39af-4c37-9532-f692f3b56adc"
      },
      "execution_count": null,
      "outputs": [
        {
          "output_type": "execute_result",
          "data": {
            "text/plain": [
              "[<matplotlib.lines.Line2D at 0x7fd7a47d8b50>]"
            ]
          },
          "metadata": {},
          "execution_count": 24
        },
        {
          "output_type": "display_data",
          "data": {
            "image/png": "[encoded data removed]",
            "text/plain": [
              "<Figure size 432x288 with 1 Axes>"
            ]
          },
          "metadata": {
            "needs_background": "light"
          }
        }
      ]
    },
    {
      "cell_type": "code",
      "source": [
        "# PATH = \"/content/drive/MyDrive/PML-project/\" + \"deepseq_MAP_dim_2.pkl\"\n",
        "# #torch.save(deepseq_dim_2.state_dict(),PATH)\n",
        "# #deepseq_dim_2.load_state_dict(torch.load(PATH))"
      ],
      "metadata": {
        "id": "cIVeIEhJymfW"
      },
      "execution_count": null,
      "outputs": []
    },
    {
      "cell_type": "code",
      "source": [
        "Zs = []\n",
        "labels = []\n",
        "with torch.no_grad():\n",
        "    for i in dataloader:\n",
        "        z_mu, _ = deepseq_dim_2.encoder((i[0].to(DEVICE)))\n",
        "        Zs.append(z_mu.cpu())\n",
        "        labels.append(i[1])\n",
        "Zs = torch.cat(Zs).numpy()\n",
        "labels = torch.cat(labels).numpy()\n",
        "plt.rcParams[\"figure.figsize\"] = (10, 10)\n",
        "for idx, name in enumerate(phyla):\n",
        "    plt.scatter(Zs[labels == idx, 0], Zs[labels == idx, 1], s=3, label=name)\n",
        "plt.legend()\n",
        "plt.show()"
      ],
      "metadata": {
        "execution": {
          "iopub.status.busy": "2022-01-08T22:16:00.787447Z",
          "iopub.execute_input": "2022-01-08T22:16:00.787859Z",
          "iopub.status.idle": "2022-01-08T22:16:00.791717Z",
          "shell.execute_reply.started": "2022-01-08T22:16:00.787809Z",
          "shell.execute_reply": "2022-01-08T22:16:00.790894Z"
        },
        "trusted": true,
        "colab": {
          "base_uri": "https://localhost:8080/",
          "height": 592
        },
        "id": "JlysIjiQxvFU",
        "outputId": "278b6dae-1ee1-4dce-eb32-8dc96749048a"
      },
      "execution_count": null,
      "outputs": [
        {
          "output_type": "display_data",
          "data": {
            "image/png": "[encoded data removed]",
            "text/plain": [
              "<Figure size 720x720 with 1 Axes>"
            ]
          },
          "metadata": {
            "needs_background": "light"
          }
        }
      ]
    },
    {
      "cell_type": "code",
      "source": [
        "# train the model\n",
        "EPOCH = 201\n",
        "ELBOs = []\n",
        "for epoch in tqdm(range(EPOCH)):\n",
        "    if epoch % 10 == 0:\n",
        "        print(\"epoch:\", epoch)\n",
        "        # Check the reconstruct accuracy (make sure it learns normally)\n",
        "        acc = []\n",
        "        for i in range(len(dataset)):\n",
        "            raw_sequence = dataset[i][0][np.newaxis, :].to(DEVICE)\n",
        "            z_mu, _ = deepseq.encoder(raw_sequence)\n",
        "            acc.append(torch.argmax(deepseq.decoder(z_mu), dim=-1) == raw_sequence)\n",
        "        acc = np.mean(torch.cat(acc, dim=0).cpu().numpy())\n",
        "        print(\"Reconstruct Accuracy:\", acc)\n",
        "\n",
        "\n",
        "        raw_sequence = dataset[0][0][np.newaxis, :].to(DEVICE)\n",
        "        experiment_value = []\n",
        "        predicted_value = []\n",
        "        with torch.no_grad():\n",
        "            log_x_wt_ELBO, _, _ = deepseq(raw_sequence, 50)\n",
        "            for (position, mutant_from), row in experimental_data.iterrows():\n",
        "                assert aa1_to_index[mutant_from] == raw_sequence[0, position]\n",
        "                for mutant_to, exp_value in row.iteritems():\n",
        "                    if mutant_to != mutant_from:\n",
        "                        new_sequence = raw_sequence.clone()\n",
        "                        new_sequence[0, position] = aa1_to_index[mutant_to]\n",
        "                        experiment_value.append(exp_value)\n",
        "                        log_x_mt_ELBO, _, _ = deepseq(new_sequence, 50)\n",
        "                        predicted_value.append((log_x_mt_ELBO - log_x_wt_ELBO).item())\n",
        "        print(spearmanr(experiment_value, predicted_value))\n",
        "        PATH = \"/content/drive/MyDrive/PML-project/SP_no_prior/\" + \"deepseq_%d.pkl\"%epoch\n",
        "        torch.save(deepseq.state_dict(),PATH)\n",
        "\n",
        "    ELBOs.append(train(deepseq, dataloader_weighted, Adam(deepseq.parameters(), lr=0.0001), DEVICE))"
      ],
      "metadata": {
        "execution": {
          "iopub.status.busy": "2022-01-09T00:51:36.371653Z",
          "iopub.execute_input": "2022-01-09T00:51:36.371925Z",
          "iopub.status.idle": "2022-01-09T01:14:47.799264Z",
          "shell.execute_reply.started": "2022-01-09T00:51:36.371895Z",
          "shell.execute_reply": "2022-01-09T01:14:47.798083Z"
        },
        "trusted": true,
        "colab": {
          "base_uri": "https://localhost:8080/"
        },
        "id": "kzx1umcdxvFT",
        "outputId": "2dc90d42-0e18-439e-e91c-514fc122695f"
      },
      "execution_count": null,
      "outputs": [
        {
          "output_type": "stream",
          "name": "stderr",
          "text": [
            "\r  0%|          | 0/201 [00:00<?, ?it/s]"
          ]
        },
        {
          "output_type": "stream",
          "name": "stdout",
          "text": [
            "epoch: 0\n",
            "Reconstruct Accuracy: 0.04201123427753745\n",
            "SpearmanrResult(correlation=-0.04250087060246139, pvalue=0.002656072522835201)\n"
          ]
        },
        {
          "output_type": "stream",
          "name": "stderr",
          "text": [
            "  5%|▍         | 10/201 [14:55<1:20:33, 25.30s/it]"
          ]
        },
        {
          "output_type": "stream",
          "name": "stdout",
          "text": [
            "epoch: 10\n",
            "Reconstruct Accuracy: 0.5801101517616332\n",
            "SpearmanrResult(correlation=0.5837813504987233, pvalue=0.0)\n"
          ]
        },
        {
          "output_type": "stream",
          "name": "stderr",
          "text": [
            " 10%|▉         | 20/201 [29:52<1:16:24, 25.33s/it]"
          ]
        },
        {
          "output_type": "stream",
          "name": "stdout",
          "text": [
            "epoch: 20\n",
            "Reconstruct Accuracy: 0.6202725970105265\n",
            "SpearmanrResult(correlation=0.650414852672933, pvalue=0.0)\n"
          ]
        },
        {
          "output_type": "stream",
          "name": "stderr",
          "text": [
            " 15%|█▍        | 30/201 [44:52<1:12:15, 25.36s/it]"
          ]
        },
        {
          "output_type": "stream",
          "name": "stdout",
          "text": [
            "epoch: 30\n",
            "Reconstruct Accuracy: 0.6472143102281562\n",
            "SpearmanrResult(correlation=0.6575204635639136, pvalue=0.0)\n"
          ]
        },
        {
          "output_type": "stream",
          "name": "stderr",
          "text": [
            " 20%|█▉        | 40/201 [59:50<1:07:57, 25.33s/it]"
          ]
        },
        {
          "output_type": "stream",
          "name": "stdout",
          "text": [
            "epoch: 40\n",
            "Reconstruct Accuracy: 0.6702427371772375\n",
            "SpearmanrResult(correlation=0.6528453735335621, pvalue=0.0)\n"
          ]
        },
        {
          "output_type": "stream",
          "name": "stderr",
          "text": [
            " 25%|██▍       | 50/201 [1:14:48<1:03:46, 25.34s/it]"
          ]
        },
        {
          "output_type": "stream",
          "name": "stdout",
          "text": [
            "epoch: 50\n",
            "Reconstruct Accuracy: 0.6875435051954171\n",
            "SpearmanrResult(correlation=0.6728082020392676, pvalue=0.0)\n"
          ]
        },
        {
          "output_type": "stream",
          "name": "stderr",
          "text": [
            " 30%|██▉       | 60/201 [1:29:47<59:34, 25.35s/it]  "
          ]
        },
        {
          "output_type": "stream",
          "name": "stdout",
          "text": [
            "epoch: 60\n",
            "Reconstruct Accuracy: 0.700427344627072\n",
            "SpearmanrResult(correlation=0.6672933732230544, pvalue=0.0)\n"
          ]
        },
        {
          "output_type": "stream",
          "name": "stderr",
          "text": [
            " 35%|███▍      | 70/201 [1:44:46<55:20, 25.35s/it]  "
          ]
        },
        {
          "output_type": "stream",
          "name": "stdout",
          "text": [
            "epoch: 70\n",
            "Reconstruct Accuracy: 0.7110779981502415\n",
            "SpearmanrResult(correlation=0.6729515724850612, pvalue=0.0)\n"
          ]
        },
        {
          "output_type": "stream",
          "name": "stderr",
          "text": [
            " 40%|███▉      | 80/201 [1:59:45<51:07, 25.35s/it]"
          ]
        },
        {
          "output_type": "stream",
          "name": "stdout",
          "text": [
            "epoch: 80\n",
            "Reconstruct Accuracy: 0.7194465072720327\n",
            "SpearmanrResult(correlation=0.6663836755927794, pvalue=0.0)\n"
          ]
        },
        {
          "output_type": "stream",
          "name": "stderr",
          "text": [
            " 45%|████▍     | 90/201 [2:14:44<46:54, 25.35s/it]"
          ]
        },
        {
          "output_type": "stream",
          "name": "stdout",
          "text": [
            "epoch: 90\n",
            "Reconstruct Accuracy: 0.7265934777592715\n",
            "SpearmanrResult(correlation=0.6751975924621492, pvalue=0.0)\n"
          ]
        },
        {
          "output_type": "stream",
          "name": "stderr",
          "text": [
            " 50%|████▉     | 100/201 [2:29:43<42:40, 25.35s/it]"
          ]
        },
        {
          "output_type": "stream",
          "name": "stdout",
          "text": [
            "epoch: 100\n",
            "Reconstruct Accuracy: 0.7328359279718775\n",
            "SpearmanrResult(correlation=0.6819387280772897, pvalue=0.0)\n"
          ]
        },
        {
          "output_type": "stream",
          "name": "stderr",
          "text": [
            " 55%|█████▍    | 110/201 [2:44:42<38:28, 25.37s/it]"
          ]
        },
        {
          "output_type": "stream",
          "name": "stdout",
          "text": [
            "epoch: 110\n",
            "Reconstruct Accuracy: 0.737456931068381\n",
            "SpearmanrResult(correlation=0.6746525630470606, pvalue=0.0)\n"
          ]
        },
        {
          "output_type": "stream",
          "name": "stderr",
          "text": [
            " 60%|█████▉    | 120/201 [2:59:43<34:21, 25.46s/it]"
          ]
        },
        {
          "output_type": "stream",
          "name": "stdout",
          "text": [
            "epoch: 120\n",
            "Reconstruct Accuracy: 0.742278130774436\n",
            "SpearmanrResult(correlation=0.6812856411667166, pvalue=0.0)\n"
          ]
        },
        {
          "output_type": "stream",
          "name": "stderr",
          "text": [
            " 65%|██████▍   | 130/201 [3:14:42<29:59, 25.35s/it]"
          ]
        },
        {
          "output_type": "stream",
          "name": "stdout",
          "text": [
            "epoch: 130\n",
            "Reconstruct Accuracy: 0.747260263348218\n",
            "SpearmanrResult(correlation=0.6766395153987596, pvalue=0.0)\n"
          ]
        },
        {
          "output_type": "stream",
          "name": "stderr",
          "text": [
            " 70%|██████▉   | 140/201 [3:29:40<25:45, 25.34s/it]"
          ]
        },
        {
          "output_type": "stream",
          "name": "stdout",
          "text": [
            "epoch: 140\n",
            "Reconstruct Accuracy: 0.7502724225050074\n",
            "SpearmanrResult(correlation=0.6781002447453426, pvalue=0.0)\n"
          ]
        },
        {
          "output_type": "stream",
          "name": "stderr",
          "text": [
            " 75%|███████▍  | 150/201 [3:44:38<21:32, 25.34s/it]"
          ]
        },
        {
          "output_type": "stream",
          "name": "stdout",
          "text": [
            "epoch: 150\n",
            "Reconstruct Accuracy: 0.754109604977673\n",
            "SpearmanrResult(correlation=0.6791189034009221, pvalue=0.0)\n"
          ]
        },
        {
          "output_type": "stream",
          "name": "stderr",
          "text": [
            " 80%|███████▉  | 160/201 [3:59:38<17:22, 25.42s/it]"
          ]
        },
        {
          "output_type": "stream",
          "name": "stdout",
          "text": [
            "epoch: 160\n",
            "Reconstruct Accuracy: 0.7581634651367057\n",
            "SpearmanrResult(correlation=0.6710048110899777, pvalue=0.0)\n"
          ]
        },
        {
          "output_type": "stream",
          "name": "stderr",
          "text": [
            " 85%|████████▍ | 170/201 [4:14:40<13:08, 25.44s/it]"
          ]
        },
        {
          "output_type": "stream",
          "name": "stdout",
          "text": [
            "epoch: 170\n",
            "Reconstruct Accuracy: 0.7599560246091561\n",
            "SpearmanrResult(correlation=0.6772030944378503, pvalue=0.0)\n"
          ]
        },
        {
          "output_type": "stream",
          "name": "stderr",
          "text": [
            " 90%|████████▉ | 180/201 [4:29:41<08:54, 25.44s/it]"
          ]
        },
        {
          "output_type": "stream",
          "name": "stdout",
          "text": [
            "epoch: 180\n",
            "Reconstruct Accuracy: 0.7636356673769688\n",
            "SpearmanrResult(correlation=0.6668982988358795, pvalue=0.0)\n"
          ]
        },
        {
          "output_type": "stream",
          "name": "stderr",
          "text": [
            " 95%|█████████▍| 190/201 [4:44:42<04:39, 25.38s/it]"
          ]
        },
        {
          "output_type": "stream",
          "name": "stdout",
          "text": [
            "epoch: 190\n",
            "Reconstruct Accuracy: 0.7651441706431305\n",
            "SpearmanrResult(correlation=0.6748168440205655, pvalue=0.0)\n"
          ]
        },
        {
          "output_type": "stream",
          "name": "stderr",
          "text": [
            "100%|█████████▉| 200/201 [4:59:42<00:25, 25.38s/it]"
          ]
        },
        {
          "output_type": "stream",
          "name": "stdout",
          "text": [
            "epoch: 200\n",
            "Reconstruct Accuracy: 0.7682886631519963\n",
            "SpearmanrResult(correlation=0.6712130971973714, pvalue=0.0)\n"
          ]
        },
        {
          "output_type": "stream",
          "name": "stderr",
          "text": [
            "100%|██████████| 201/201 [5:12:16<00:00, 93.22s/it] \n"
          ]
        }
      ]
    },
    {
      "cell_type": "code",
      "source": [
        "EPOCH = 301\n",
        "for epoch in tqdm(range(201, EPOCH)):\n",
        "    if epoch % 10 == 0:\n",
        "        print(\"epoch:\", epoch)\n",
        "        # Check the reconstruct accuracy (make sure it learns normally)\n",
        "        acc = []\n",
        "        for i in range(len(dataset)):\n",
        "            raw_sequence = dataset[i][0][np.newaxis, :].to(DEVICE)\n",
        "            z_mu, _ = deepseq.encoder(raw_sequence)\n",
        "            acc.append(torch.argmax(deepseq.decoder(z_mu), dim=-1) == raw_sequence)\n",
        "        acc = np.mean(torch.cat(acc, dim=0).cpu().numpy())\n",
        "        print(\"Reconstruct Accuracy:\", acc)\n",
        "\n",
        "\n",
        "        raw_sequence = dataset[0][0][np.newaxis, :].to(DEVICE)\n",
        "        experiment_value = []\n",
        "        predicted_value = []\n",
        "        with torch.no_grad():\n",
        "            log_x_wt_ELBO, _, _ = deepseq(raw_sequence, 50)\n",
        "            for (position, mutant_from), row in experimental_data.iterrows():\n",
        "                assert aa1_to_index[mutant_from] == raw_sequence[0, position]\n",
        "                for mutant_to, exp_value in row.iteritems():\n",
        "                    if mutant_to != mutant_from:\n",
        "                        new_sequence = raw_sequence.clone()\n",
        "                        new_sequence[0, position] = aa1_to_index[mutant_to]\n",
        "                        experiment_value.append(exp_value)\n",
        "                        log_x_mt_ELBO, _, _ = deepseq(new_sequence, 50)\n",
        "                        predicted_value.append((log_x_mt_ELBO - log_x_wt_ELBO).item())\n",
        "        print(spearmanr(experiment_value, predicted_value))\n",
        "        PATH = \"/content/drive/MyDrive/PML-project/SP_no_prior/\" + \"deepseq_%d.pkl\"%epoch\n",
        "        torch.save(deepseq.state_dict(),PATH)\n",
        "\n",
        "    ELBOs.append(train(deepseq, dataloader_weighted, Adam(deepseq.parameters(), lr=0.0001), DEVICE))"
      ],
      "metadata": {
        "colab": {
          "base_uri": "https://localhost:8080/"
        },
        "id": "VuGJzrsr58Dv",
        "outputId": "4288fbae-6301-4588-f727-b12128d90372"
      },
      "execution_count": null,
      "outputs": [
        {
          "output_type": "stream",
          "name": "stderr",
          "text": [
            "  9%|▉         | 9/100 [02:26<24:39, 16.26s/it]"
          ]
        },
        {
          "output_type": "stream",
          "name": "stdout",
          "text": [
            "epoch: 210\n",
            "Reconstruct Accuracy: 0.7691723397118332\n",
            "SpearmanrResult(correlation=0.6620446653242475, pvalue=0.0)\n"
          ]
        },
        {
          "output_type": "stream",
          "name": "stderr",
          "text": [
            " 19%|█▉        | 19/100 [17:27<33:57, 25.16s/it]"
          ]
        },
        {
          "output_type": "stream",
          "name": "stdout",
          "text": [
            "epoch: 220\n",
            "Reconstruct Accuracy: 0.7723148932704855\n",
            "SpearmanrResult(correlation=0.6634898087598506, pvalue=0.0)\n"
          ]
        },
        {
          "output_type": "stream",
          "name": "stderr",
          "text": [
            " 29%|██▉       | 29/100 [32:27<30:03, 25.40s/it]"
          ]
        },
        {
          "output_type": "stream",
          "name": "stdout",
          "text": [
            "epoch: 230\n",
            "Reconstruct Accuracy: 0.7744903954101171\n",
            "SpearmanrResult(correlation=0.6559937992223893, pvalue=0.0)\n"
          ]
        },
        {
          "output_type": "stream",
          "name": "stderr",
          "text": [
            " 39%|███▉      | 39/100 [47:27<25:47, 25.37s/it]"
          ]
        },
        {
          "output_type": "stream",
          "name": "stdout",
          "text": [
            "epoch: 240\n",
            "Reconstruct Accuracy: 0.7756009291449424\n",
            "SpearmanrResult(correlation=0.6703565316285295, pvalue=0.0)\n"
          ]
        },
        {
          "output_type": "stream",
          "name": "stderr",
          "text": [
            " 49%|████▉     | 49/100 [1:02:27<21:33, 25.37s/it]"
          ]
        },
        {
          "output_type": "stream",
          "name": "stdout",
          "text": [
            "epoch: 250\n",
            "Reconstruct Accuracy: 0.7790401420862717\n",
            "SpearmanrResult(correlation=0.6394620220208531, pvalue=0.0)\n"
          ]
        },
        {
          "output_type": "stream",
          "name": "stderr",
          "text": [
            " 59%|█████▉    | 59/100 [1:17:27<17:21, 25.39s/it]"
          ]
        },
        {
          "output_type": "stream",
          "name": "stdout",
          "text": [
            "epoch: 260\n",
            "Reconstruct Accuracy: 0.7801797600743006\n",
            "SpearmanrResult(correlation=0.6569108421927101, pvalue=0.0)\n"
          ]
        },
        {
          "output_type": "stream",
          "name": "stderr",
          "text": [
            " 69%|██████▉   | 69/100 [1:32:28<13:07, 25.40s/it]"
          ]
        },
        {
          "output_type": "stream",
          "name": "stdout",
          "text": [
            "epoch: 270\n",
            "Reconstruct Accuracy: 0.782081870233818\n",
            "SpearmanrResult(correlation=0.655938084834657, pvalue=0.0)\n"
          ]
        },
        {
          "output_type": "stream",
          "name": "stderr",
          "text": [
            " 79%|███████▉  | 79/100 [1:47:29<08:55, 25.48s/it]"
          ]
        },
        {
          "output_type": "stream",
          "name": "stdout",
          "text": [
            "epoch: 280\n",
            "Reconstruct Accuracy: 0.7826218678682988\n",
            "SpearmanrResult(correlation=0.6702559567458427, pvalue=0.0)\n"
          ]
        },
        {
          "output_type": "stream",
          "name": "stderr",
          "text": [
            " 89%|████████▉ | 89/100 [2:02:31<04:39, 25.43s/it]"
          ]
        },
        {
          "output_type": "stream",
          "name": "stdout",
          "text": [
            "epoch: 290\n",
            "Reconstruct Accuracy: 0.7855302931886617\n",
            "SpearmanrResult(correlation=0.6485288772741785, pvalue=0.0)\n"
          ]
        },
        {
          "output_type": "stream",
          "name": "stderr",
          "text": [
            " 99%|█████████▉| 99/100 [2:17:32<00:25, 25.41s/it]"
          ]
        },
        {
          "output_type": "stream",
          "name": "stdout",
          "text": [
            "epoch: 300\n",
            "Reconstruct Accuracy: 0.7870072885138528\n",
            "SpearmanrResult(correlation=0.6593189588776777, pvalue=0.0)\n"
          ]
        },
        {
          "output_type": "stream",
          "name": "stderr",
          "text": [
            "100%|██████████| 100/100 [2:30:07<00:00, 90.08s/it] \n"
          ]
        }
      ]
    },
    {
      "cell_type": "code",
      "source": [
        "plt.rcParams[\"figure.figsize\"] = (6, 4)\n",
        "plt.plot(ELBOs[:])"
      ],
      "metadata": {
        "execution": {
          "iopub.status.busy": "2022-01-09T01:14:49.819784Z",
          "iopub.execute_input": "2022-01-09T01:14:49.820253Z",
          "iopub.status.idle": "2022-01-09T01:14:50.013312Z",
          "shell.execute_reply.started": "2022-01-09T01:14:49.820218Z",
          "shell.execute_reply": "2022-01-09T01:14:50.012645Z"
        },
        "trusted": true,
        "colab": {
          "base_uri": "https://localhost:8080/",
          "height": 283
        },
        "id": "3bgwtn-9xvFT",
        "outputId": "1226b864-d453-4165-fc8f-899362a64ad6"
      },
      "execution_count": null,
      "outputs": [
        {
          "output_type": "execute_result",
          "data": {
            "text/plain": [
              "[<matplotlib.lines.Line2D at 0x7fd7a224aa90>]"
            ]
          },
          "metadata": {},
          "execution_count": 32
        },
        {
          "output_type": "display_data",
          "data": {
            "image/png": "[encoded data removed]",
            "text/plain": [
              "<Figure size 432x288 with 1 Axes>"
            ]
          },
          "metadata": {
            "needs_background": "light"
          }
        }
      ]
    },
    {
      "cell_type": "code",
      "source": [
        "# PATH = \"/content/drive/MyDrive/PML-project/\" + \"deepseq_MAP.pkl\"\n",
        "# #torch.save(deepseq.state_dict(),PATH)\n",
        "# #deepseq.load_state_dict(torch.load(PATH))"
      ],
      "metadata": {
        "colab": {
          "base_uri": "https://localhost:8080/"
        },
        "id": "F2DxFbvAx8R5",
        "outputId": "da718c7d-6ac7-4cff-bac7-0a13a7c5ab62"
      },
      "execution_count": null,
      "outputs": [
        {
          "output_type": "execute_result",
          "data": {
            "text/plain": [
              "<All keys matched successfully>"
            ]
          },
          "metadata": {},
          "execution_count": 48
        }
      ]
    },
    {
      "cell_type": "code",
      "source": [
        "# Check the reconstruct accuracy (make sure it learns normally)\n",
        "acc = []\n",
        "for i in range(len(dataset)):\n",
        "    raw_sequence = dataset[i][0][np.newaxis, :].to(DEVICE)\n",
        "    z_mu, _ = deepseq.encoder(raw_sequence)\n",
        "    acc.append(torch.argmax(deepseq.decoder(z_mu), dim=-1) == raw_sequence)\n",
        "acc = np.mean(torch.cat(acc, dim=0).cpu().numpy())\n",
        "print(\"Reconstruct Accuracy:\", acc)"
      ],
      "metadata": {
        "execution": {
          "iopub.status.busy": "2022-01-09T01:14:55.607912Z",
          "iopub.execute_input": "2022-01-09T01:14:55.608566Z",
          "iopub.status.idle": "2022-01-09T01:15:18.781645Z",
          "shell.execute_reply.started": "2022-01-09T01:14:55.608532Z",
          "shell.execute_reply": "2022-01-09T01:15:18.780775Z"
        },
        "trusted": true,
        "id": "G8GD4GsxxvFU"
      },
      "execution_count": null,
      "outputs": []
    },
    {
      "cell_type": "code",
      "source": [
        ""
      ],
      "metadata": {
        "id": "CJnSLk3HxvFV"
      },
      "execution_count": null,
      "outputs": []
    },
    {
      "cell_type": "code",
      "source": [
        "! wget https://sid.erda.dk/share_redirect/a5PTfl88w0/BLAT_ECOLX_Ranganathan2015.csv\n",
        "\n",
        "# Read in the experimental data, codes by Wooter from https://colab.research.google.com/github/wouterboomsma/pml_vae_project/blob/main/protein_vae_data_processing.ipynb\n",
        "\n",
        "def read_experimental_data(filename, alignment_data, measurement_col_name = '2500', sequence_offset=0):\n",
        "    '''Read experimental data from csv file, and check that amino acid match those \n",
        "       in the first sequence of the alignment.\n",
        "       \n",
        "       measurement_col_name specifies which column in the csv file contains the experimental \n",
        "       observation. In our case, this is the one called 2500.\n",
        "       \n",
        "       sequence_offset is used in case there is an overall offset between the\n",
        "       indices in the two files.\n",
        "       '''\n",
        "    \n",
        "    measurement_df = pd.read_csv(filename, delimiter=',', usecols=['mutant', measurement_col_name])\n",
        "    \n",
        "    wt_sequence, wt_label = alignment_data[0]\n",
        "    \n",
        "    zero_index = None\n",
        "    \n",
        "    experimental_data = {}\n",
        "    for idx, entry in measurement_df.iterrows():\n",
        "        mutant_from, position, mutant_to = entry['mutant'][:1],int(entry['mutant'][1:-1]),entry['mutant'][-1:]  \n",
        "        \n",
        "        # Use index of first entry as offset (keep track of this in case \n",
        "        # there are index gaps in experimental data)\n",
        "        if zero_index is None:\n",
        "            zero_index = position\n",
        "            \n",
        "        # Corresponding position in our alignment\n",
        "        seq_position = position-zero_index+sequence_offset\n",
        "            \n",
        "        # Make sure that two two inputs agree on the indices: the \n",
        "        # amino acids in the first entry of the alignment should be \n",
        "        # identical to those in the experimental file.\n",
        "        assert mutant_from == aa1[wt_sequence[seq_position]]  \n",
        "        \n",
        "        if seq_position not in experimental_data:\n",
        "            experimental_data[seq_position] = {}\n",
        "        \n",
        "        # Check that there is only a single experimental value for mutant\n",
        "        assert mutant_to not in experimental_data[seq_position]\n",
        "        \n",
        "        experimental_data[seq_position]['pos'] = seq_position\n",
        "        experimental_data[seq_position]['WT'] = mutant_from\n",
        "        experimental_data[seq_position][mutant_to] = entry[measurement_col_name]\n",
        "    \n",
        "    experimental_data = pd.DataFrame(experimental_data).transpose().set_index(['pos', 'WT'])\n",
        "    return experimental_data\n",
        "        \n",
        "        \n",
        "experimental_data = read_experimental_data(\"BLAT_ECOLX_Ranganathan2015.csv\", dataset)\n",
        "# For each of the entries in the dataframe above, you should calculate\n",
        "# the corresponding difference in ELBO from your VAE, and then finally\n",
        "# calculate a Spearman correlation between the two.\n",
        "\n",
        "# # You can iterate over all experimental values like this:\n",
        "# for (position, mutant_from), row in experimental_data.iterrows():\n",
        "#     print(position, mutant_from)   # mutant from is the wild type (wt)\n",
        "#     for mutant_to, exp_value in row.iteritems():\n",
        "#         print(\"\\t\", mutant_to, exp_value) "
      ],
      "metadata": {
        "execution": {
          "iopub.status.busy": "2022-01-09T01:15:26.970256Z",
          "iopub.execute_input": "2022-01-09T01:15:26.970595Z",
          "iopub.status.idle": "2022-01-09T01:15:34.695535Z",
          "shell.execute_reply.started": "2022-01-09T01:15:26.970561Z",
          "shell.execute_reply": "2022-01-09T01:15:34.694565Z"
        },
        "trusted": true,
        "colab": {
          "base_uri": "https://localhost:8080/"
        },
        "id": "3iANJeonxvFV",
        "outputId": "6345fe2b-54f1-4f69-b757-59d8e1504196"
      },
      "execution_count": null,
      "outputs": [
        {
          "output_type": "stream",
          "name": "stdout",
          "text": [
            "--2022-01-15 12:54:56--  https://sid.erda.dk/share_redirect/a5PTfl88w0/BLAT_ECOLX_Ranganathan2015.csv\n",
            "Resolving sid.erda.dk (sid.erda.dk)... 130.225.104.13\n",
            "Connecting to sid.erda.dk (sid.erda.dk)|130.225.104.13|:443... connected.\n",
            "HTTP request sent, awaiting response... 200 OK\n",
            "Length: 1216640 (1.2M) [text/csv]\n",
            "Saving to: ‘BLAT_ECOLX_Ranganathan2015.csv.1’\n",
            "\n",
            "BLAT_ECOLX_Ranganat 100%[===================>]   1.16M   141KB/s    in 8.4s    \n",
            "\n",
            "2022-01-15 12:55:07 (141 KB/s) - ‘BLAT_ECOLX_Ranganathan2015.csv.1’ saved [1216640/1216640]\n",
            "\n"
          ]
        }
      ]
    },
    {
      "cell_type": "code",
      "source": [
        "raw_sequence = dataset[0][0][np.newaxis, :].to(DEVICE)\n",
        "experiment_value = []\n",
        "predicted_value = []\n",
        "with torch.no_grad():\n",
        "    log_x_wt_ELBO, _, _ = deepseq(raw_sequence, 100)\n",
        "    for (position, mutant_from), row in tqdm(experimental_data.iterrows()):\n",
        "        assert aa1_to_index[mutant_from] == raw_sequence[0, position]\n",
        "        for mutant_to, exp_value in row.iteritems():\n",
        "            if mutant_to != mutant_from:\n",
        "                new_sequence = raw_sequence.clone()\n",
        "                new_sequence[0, position] = aa1_to_index[mutant_to]\n",
        "                experiment_value.append(exp_value)\n",
        "                log_x_mt_ELBO, _, _ = deepseq(new_sequence, 100)\n",
        "                predicted_value.append((log_x_mt_ELBO - log_x_wt_ELBO).item())"
      ],
      "metadata": {
        "execution": {
          "iopub.status.busy": "2022-01-09T01:16:25.428987Z",
          "iopub.execute_input": "2022-01-09T01:16:25.429629Z",
          "iopub.status.idle": "2022-01-09T01:18:52.332628Z",
          "shell.execute_reply.started": "2022-01-09T01:16:25.429586Z",
          "shell.execute_reply": "2022-01-09T01:18:52.331901Z"
        },
        "trusted": true,
        "colab": {
          "base_uri": "https://localhost:8080/"
        },
        "id": "SEk6OIAVxvFW",
        "outputId": "6b50a396-7d7f-472c-c68e-0350c5510861"
      },
      "execution_count": null,
      "outputs": [
        {
          "output_type": "stream",
          "name": "stderr",
          "text": [
            "263it [23:44,  5.42s/it]\n"
          ]
        }
      ]
    },
    {
      "cell_type": "code",
      "source": [
        "spearmanr(experiment_value, predicted_value)"
      ],
      "metadata": {
        "execution": {
          "iopub.status.busy": "2022-01-09T01:19:03.737765Z",
          "iopub.execute_input": "2022-01-09T01:19:03.738098Z",
          "iopub.status.idle": "2022-01-09T01:19:03.755653Z",
          "shell.execute_reply.started": "2022-01-09T01:19:03.738061Z",
          "shell.execute_reply": "2022-01-09T01:19:03.755054Z"
        },
        "trusted": true,
        "colab": {
          "base_uri": "https://localhost:8080/"
        },
        "id": "XgBXWSrRxvFW",
        "outputId": "fe90970e-3363-4cc4-9f53-40e552caa56c"
      },
      "execution_count": null,
      "outputs": [
        {
          "output_type": "execute_result",
          "data": {
            "text/plain": [
              "SpearmanrResult(correlation=0.6957418166369738, pvalue=0.0)"
            ]
          },
          "metadata": {},
          "execution_count": 36
        }
      ]
    },
    {
      "cell_type": "code",
      "source": [
        ""
      ],
      "metadata": {
        "id": "0RLqTA5VxvFW"
      },
      "execution_count": null,
      "outputs": []
    },
    {
      "cell_type": "code",
      "source": [
        ""
      ],
      "metadata": {
        "id": "OfYhqbkwPlXM"
      },
      "execution_count": null,
      "outputs": []
    }
  ]
}
