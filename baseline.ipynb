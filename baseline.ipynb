{
  "cells": [
    {
      "cell_type": "markdown",
      "metadata": {
        "id": "aIo1n5EviHvC"
      },
      "source": [
        "# PML Project\n",
        "\n",
        "\n",
        "Update Date: 2022-01-08\n",
        "\n",
        "Author: MAO Xiqing\n",
        "\n",
        "Content: Task 2.1(baseline)\n",
        "\n",
        "##2.1 The Baseline: A site-indep model "
      ]
    },
    {
      "cell_type": "markdown",
      "metadata": {
        "id": "cR3ul-LwiTLU"
      },
      "source": [
        "### Get sequence"
      ]
    },
    {
      "cell_type": "code",
      "execution_count": null,
      "metadata": {},
      "outputs": [],
      "source": [
        "%%capture\n",
        "!wget https://sid.erda.dk/share_redirect/a5PTfl88w0/BLAT_ECOLX_1_b0.5_labeled.fasta    \n",
        "!wget https://sid.erda.dk/share_redirect/a5PTfl88w0/BLAT_ECOLX_Ranganathan2015.csv\n",
        "!pip install biopython\n",
        "\n",
        "import helper\n",
        "import numpy as np\n",
        "import torch\n",
        "from torch.optim import Adam\n",
        "from torch import nn\n",
        "from tqdm import tqdm\n",
        "import matplotlib.pyplot as plt\n",
        "from scipy.stats import spearmanr\n",
        "from sklearn.manifold import TSNE\n",
        "import pandas as pd\n",
        "from collections import Counter\n",
        "\n",
        "device = 'cuda' if torch.cuda.is_available() else 'cpu'"
      ]
    },
    {
      "cell_type": "code",
      "execution_count": 40,
      "metadata": {
        "id": "5DAA_WME1XQQ"
      },
      "outputs": [],
      "source": [
        "seqs, labels, weights, phyla_lookup_table, phyla_idx, dataset=helper.get_baseline_data('BLAT_ECOLX_1_b0.5_labeled.fasta',calc_weights=True)\n",
        "experimental_data = helper.read_experimental_data(\"BLAT_ECOLX_Ranganathan2015.csv\", dataset)\n",
        "dataloader_weighted = torch.utils.data.DataLoader(dataset, batch_size=16, sampler=torch.utils.data.sampler.WeightedRandomSampler(weights, num_samples=len(dataset)))"
      ]
    },
    {
      "cell_type": "markdown",
      "metadata": {
        "id": "olVmPkohickL"
      },
      "source": [
        "### Baseline"
      ]
    },
    {
      "cell_type": "code",
      "execution_count": 8,
      "metadata": {
        "id": "iowkRqxfU3sY"
      },
      "outputs": [],
      "source": [
        "from collections import Counter\n",
        "def my_log(data):\n",
        "  if data > 0:\n",
        "    result = np.log(data)\n",
        "  else:\n",
        "    result = 0\n",
        "  return result\n",
        "\n",
        "class base1ine(object):\n",
        "    def __init__(self, pseudo_count = 1):\n",
        "        self.pseudo_count = pseudo_count\n",
        "        self.freqs = []\n",
        "\n",
        "    def get_freqs(self, seq_data):\n",
        "        for position in range(seq_data.shape[1]):\n",
        "            freq_aa_in_position = {}\n",
        "            aa_in_position = seq_data[:, position]\n",
        "            count_aa = Counter(aa_in_position)\n",
        "            num_aa = len(np.unique(aa_in_position))\n",
        "            for i in range(23):\n",
        "                freq_aa_in_position[i] = (count_aa[i] + self.pseudo_count) / (seq_data.shape[0] + num_aa * self.pseudo_count)\n",
        "            self.freqs.append(freq_aa_in_position)\n",
        "\n",
        "    def get_P_of_seqs(self, seq_data):   \n",
        "        P_of_seqs = []\n",
        "        for seq in seq_data:\n",
        "            P_of_seq= 0\n",
        "            for i, aa in enumerate(seq):\n",
        "                P_of_seq += my_log(self.freqs[i][aa])\n",
        "            P_of_seqs.append(P_of_seq)\n",
        "            P_of_seqs = np.array(P_of_seqs)\n",
        "        return P_of_seqs"
      ]
    },
    {
      "cell_type": "code",
      "execution_count": 9,
      "metadata": {
        "id": "USEgQHCDOlHm"
      },
      "outputs": [],
      "source": [
        "baseline = base1ine(pseudo_count=1)"
      ]
    },
    {
      "cell_type": "markdown",
      "metadata": {
        "id": "QcxVy9meirUT"
      },
      "source": [
        "### Result"
      ]
    },
    {
      "cell_type": "code",
      "execution_count": 70,
      "metadata": {
        "id": "RbkidDPPqBLZ"
      },
      "outputs": [],
      "source": [
        "baseline.get_freqs(seqs)"
      ]
    },
    {
      "cell_type": "code",
      "execution_count": 63,
      "metadata": {
        "id": "HflmygMaBCj9"
      },
      "outputs": [],
      "source": [
        "import copy\n",
        "raw_sequence = [seqs[0]]\n",
        "log_P_of_wt = baseline.get_P_of_seqs(raw_sequence)\n",
        "experiment_value = []\n",
        "predicted_value = []\n",
        "for (position, mutant_from), row in experimental_data.iterrows():\n",
        "    assert helper.aa1_to_index[mutant_from] == raw_sequence[0][position]\n",
        "    for mutant_to, exp_value in row.iteritems():\n",
        "        if mutant_to != mutant_from:\n",
        "            new_sequence = copy.deepcopy(raw_sequence)\n",
        "            new_sequence[0][position] = helper.aa1_to_index[mutant_to]\n",
        "            experiment_value.append(exp_value)\n",
        "            log_P_of_mt = baseline.get_P_of_seqs(new_sequence)\n",
        "            predicted_value.append(-(log_P_of_wt - log_P_of_mt))"
      ]
    },
    {
      "cell_type": "code",
      "execution_count": 64,
      "metadata": {
        "colab": {
          "base_uri": "https://localhost:8080/"
        },
        "id": "opG_8t8fHreW",
        "outputId": "6823d57f-e750-4ffe-de9b-d828e0f7a403"
      },
      "outputs": [
        {
          "data": {
            "text/plain": [
              "SpearmanrResult(correlation=0.6061777186788756, pvalue=0.0)"
            ]
          },
          "execution_count": 64,
          "metadata": {},
          "output_type": "execute_result"
        }
      ],
      "source": [
        "from scipy.stats import spearmanr\n",
        "spearmanr(experiment_value, predicted_value)"
      ]
    },
    {
      "cell_type": "markdown",
      "metadata": {
        "id": "wYGUtkooiwSW"
      },
      "source": [
        "### Weighted result"
      ]
    },
    {
      "cell_type": "code",
      "execution_count": 74,
      "metadata": {
        "id": "_tom2FHtbU9j"
      },
      "outputs": [],
      "source": [
        "weighed_seqs=[]\n",
        "for i in dataloader_weighted:\n",
        "  weighed_seqs.append(i[0][0].cpu().detach().numpy())\n",
        "weighed_seqs = np.array(weighed_seqs)"
      ]
    },
    {
      "cell_type": "code",
      "execution_count": 81,
      "metadata": {
        "id": "dnNRI0PYhoP8"
      },
      "outputs": [],
      "source": [
        "baseline_weighted = base1ine(pseudo_count=1)\n",
        "baseline_weighted.get_freqs(weighed_seqs)"
      ]
    },
    {
      "cell_type": "code",
      "execution_count": 84,
      "metadata": {
        "id": "JzU9DwCHcnjB"
      },
      "outputs": [],
      "source": [
        "import copy\n",
        "raw_sequence = [seqs[0]]\n",
        "log_P_of_wt = baseline_weighted.get_P_of_seqs(raw_sequence)\n",
        "experiment_value = []\n",
        "predicted_value = []\n",
        "for (position, mutant_from), row in experimental_data.iterrows():\n",
        "    assert helper.aa1_to_index[mutant_from] == raw_sequence[0][position]\n",
        "    for mutant_to, exp_value in row.iteritems():\n",
        "        if mutant_to != mutant_from:\n",
        "            new_sequence = copy.deepcopy(raw_sequence)\n",
        "            new_sequence[0][position] = helper.aa1_to_index[mutant_to]\n",
        "            experiment_value.append(exp_value)\n",
        "            log_P_of_mt = baseline_weighted.get_P_of_seqs(new_sequence)\n",
        "            predicted_value.append(-(log_P_of_wt - log_P_of_mt))"
      ]
    },
    {
      "cell_type": "code",
      "execution_count": 85,
      "metadata": {
        "colab": {
          "base_uri": "https://localhost:8080/"
        },
        "id": "W9omd-30crue",
        "outputId": "510cd583-7060-4537-8883-c59a108d87aa"
      },
      "outputs": [
        {
          "data": {
            "text/plain": [
              "SpearmanrResult(correlation=0.5960609586606334, pvalue=0.0)"
            ]
          },
          "execution_count": 85,
          "metadata": {},
          "output_type": "execute_result"
        }
      ],
      "source": [
        "from scipy.stats import spearmanr\n",
        "spearmanr(experiment_value, predicted_value)"
      ]
    }
  ],
  "metadata": {
    "accelerator": "GPU",
    "colab": {
      "collapsed_sections": [
        "cR3ul-LwiTLU",
        "olVmPkohickL",
        "HDUf_6fEihwQ"
      ],
      "name": "baseline.ipynb",
      "provenance": []
    },
    "kernelspec": {
      "display_name": "Python 3",
      "name": "python3"
    },
    "language_info": {
      "name": "python"
    }
  },
  "nbformat": 4,
  "nbformat_minor": 0
}
