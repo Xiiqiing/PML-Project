{
  "cells": [
    {
      "cell_type": "markdown",
      "metadata": {
        "id": "a9_umfQ1lcbp"
      },
      "source": [
        "# PML Project\n",
        "\n",
        "\n",
        "Update Date: 2022-01-11\n",
        "\n",
        "Author: Jiajun He & Xiqing Mao\n",
        "\n",
        "Content: Compare Epoch VS recon.acc & Epoch VS rho\n"
      ]
    },
    {
      "cell_type": "code",
      "execution_count": null,
      "metadata": {
        "id": "xiEs5IzaKN-m"
      },
      "outputs": [],
      "source": [
        "from google.colab import drive\n",
        "drive.mount('/content/drive')"
      ]
    },
    {
      "cell_type": "markdown",
      "metadata": {
        "id": "RGsxAvtfjJSe"
      },
      "source": [
        "# Task 1: Implement DeepSequence VAE model\n"
      ]
    },
    {
      "cell_type": "code",
      "execution_count": 1,
      "metadata": {
        "execution": {
          "iopub.execute_input": "2022-01-11T18:09:03.725905Z",
          "iopub.status.busy": "2022-01-11T18:09:03.724807Z",
          "iopub.status.idle": "2022-01-11T18:09:18.290469Z",
          "shell.execute_reply": "2022-01-11T18:09:18.289236Z",
          "shell.execute_reply.started": "2022-01-11T18:09:03.725859Z"
        },
        "id": "A36yJ8eFjbKv",
        "trusted": true
      },
      "outputs": [],
      "source": [
        "%%capture\n",
        "!wget https://sid.erda.dk/share_redirect/a5PTfl88w0/BLAT_ECOLX_1_b0.5_labeled.fasta    \n",
        "!wget https://sid.erda.dk/share_redirect/a5PTfl88w0/BLAT_ECOLX_Ranganathan2015.csv\n",
        "!pip install biopython\n",
        "\n",
        "import helper\n",
        "import numpy as np\n",
        "import torch\n",
        "from torch.optim import Adam\n",
        "from torch import nn\n",
        "from tqdm import tqdm\n",
        "import matplotlib.pyplot as plt\n",
        "from scipy.stats import spearmanr\n",
        "from sklearn.manifold import TSNE\n",
        "import pandas as pd\n",
        "from collections import Counter\n",
        "from scipy.stats import spearmanr\n",
        "\n",
        "DEVICE = 'cuda' if torch.cuda.is_available() else 'cpu'\n",
        "batch_size = 16\n",
        "\n",
        "dataset, weights = helper.get_data('BLAT_ECOLX_1_b0.5_labeled.fasta', calc_weights=True)\n",
        "dataloader = torch.utils.data.DataLoader(dataset, batch_size=batch_size, shuffle=True)\n",
        "dataloader_weighted = torch.utils.data.DataLoader(dataset, batch_size=batch_size, sampler=torch.utils.data.sampler.WeightedRandomSampler(weights, num_samples=len(dataset)))\n",
        "experimental_data = helper.read_experimental_data(\"BLAT_ECOLX_Ranganathan2015.csv\", dataset)"
      ]
    },
    {
      "cell_type": "markdown",
      "metadata": {
        "id": "oZ5LUhP_mdLk"
      },
      "source": [
        "## 1.1 Implement a standard VAE"
      ]
    },
    {
      "cell_type": "code",
      "execution_count": 2,
      "metadata": {
        "execution": {
          "iopub.execute_input": "2022-01-11T18:09:41.589233Z",
          "iopub.status.busy": "2022-01-11T18:09:41.588862Z",
          "iopub.status.idle": "2022-01-11T18:09:41.622390Z",
          "shell.execute_reply": "2022-01-11T18:09:41.620186Z",
          "shell.execute_reply.started": "2022-01-11T18:09:41.589179Z"
        },
        "id": "aFLeW_NTouEx",
        "trusted": true
      },
      "outputs": [],
      "source": [
        "class standard_VAE(nn.Module):\n",
        "    def __init__(self, input_size, latent_size, device):\n",
        "        super().__init__()\n",
        "        self.fc11 = nn.Linear(input_size, 1500) # 1500 is the number in the papar\n",
        "        self.fc12 = nn.Linear(1500, 1500)\n",
        "        self.fc131 = nn.Linear(1500, latent_size)\n",
        "        self.fc132 = nn.Linear(1500, latent_size)\n",
        "\n",
        "        self.fc21 = nn.Linear(latent_size, 100)\n",
        "        self.fc22 = nn.Linear(100, 2000)\n",
        "        self.fc23 = nn.Linear(2000, input_size)\n",
        "\n",
        "        self.device = device\n",
        "    \n",
        "    def encoder(self, x):\n",
        "        x = nn.functional.one_hot(x, num_classes=23).float().reshape(x.shape[0], -1)\n",
        "        hidden = nn.ReLU()(self.fc11(x))\n",
        "        hidden = nn.ReLU()(self.fc12(hidden))\n",
        "        z_mu = self.fc131(hidden)\n",
        "        z_sd = torch.exp(self.fc132(hidden))\n",
        "\n",
        "        return z_mu, z_sd\n",
        "\n",
        "    def decoder(self, z):\n",
        "        hidden = nn.ReLU()(self.fc21(z))\n",
        "        hidden = nn.ReLU()(self.fc22(hidden))\n",
        "        x = self.fc23(hidden)\n",
        "\n",
        "        return x.reshape(z.shape[0], -1, 23)\n",
        "    \n",
        "    def forward(self, x, mc_samples=1):\n",
        "        z_mu, z_sd = self.encoder(x)\n",
        "\n",
        "        # prior distribution\n",
        "        prior = torch.distributions.Normal(0., 1.)\n",
        "        posterior = torch.distributions.Normal(z_mu, z_sd)\n",
        "\n",
        "        # since both prior and posterior are diag-Gaussian, the KL divergence between q(z|x) and p(z) is just the sum of the KL divergence in each dimension\n",
        "        KL_post_prior = torch.sum(torch.distributions.kl.kl_divergence(posterior, prior), dim=-1)\n",
        "\n",
        "        # E_q[p(x|z)] (sum because p(x|z) = p(x1|z)p(x2|z)...)\n",
        "        z = torch.randn_like(z_mu) * z_sd + z_mu\n",
        "        x_logit = self.decoder(z)\n",
        "        Ep = torch.sum(torch.distributions.Categorical(logits=x_logit).log_prob(x), dim=-1)\n",
        "        for sample in range(mc_samples-1):\n",
        "            z = torch.randn_like(z_mu) * z_sd + z_mu\n",
        "            x_logit = self.decoder(z)\n",
        "            Ep += torch.sum(torch.distributions.Categorical(logits=x_logit).log_prob(x), dim=-1)\n",
        "        Ep = Ep / mc_samples\n",
        "        ELBO = torch.sum(Ep - KL_post_prior)\n",
        "        return ELBO, z_mu, z_sd"
      ]
    },
    {
      "cell_type": "markdown",
      "metadata": {
        "id": "hVgqGmyF0gx3"
      },
      "source": [
        "## 1.2 Visualize the z-space"
      ]
    },
    {
      "cell_type": "code",
      "execution_count": 3,
      "metadata": {
        "execution": {
          "iopub.execute_input": "2022-01-11T18:09:49.246690Z",
          "iopub.status.busy": "2022-01-11T18:09:49.246128Z",
          "iopub.status.idle": "2022-01-11T18:09:49.253379Z",
          "shell.execute_reply": "2022-01-11T18:09:49.252251Z",
          "shell.execute_reply.started": "2022-01-11T18:09:49.246652Z"
        },
        "id": "qXZeFtxy2Jwg",
        "trusted": true
      },
      "outputs": [],
      "source": [
        "def train(model, dl, optimizer, device):\n",
        "    ELBOs = []\n",
        "    for i in dl:\n",
        "        optimizer.zero_grad()\n",
        "        ELBO, _, _ = model(i[0].to(device))\n",
        "        loss = -ELBO\n",
        "        loss.backward()\n",
        "        nn.utils.clip_grad_norm_(model.parameters(), 1)\n",
        "        optimizer.step()\n",
        "        ELBOs.append(ELBO.item())\n",
        "    return sum(ELBOs) / len(ELBOs)"
      ]
    },
    {
      "cell_type": "code",
      "execution_count": null,
      "metadata": {
        "execution": {
          "iopub.execute_input": "2022-01-11T18:10:02.506622Z",
          "iopub.status.busy": "2022-01-11T18:10:02.506305Z",
          "iopub.status.idle": "2022-01-11T18:25:20.748547Z",
          "shell.execute_reply": "2022-01-11T18:25:20.747431Z",
          "shell.execute_reply.started": "2022-01-11T18:10:02.506576Z"
        },
        "id": "Zy1pmJBq2BbS",
        "trusted": true
      },
      "outputs": [],
      "source": [
        "# train the model\n",
        "input_size = next(iter(dataloader))[0].shape[1] * 23\n",
        "standard_vae_dim_2 = standard_VAE(input_size, 2, device=DEVICE).to(DEVICE)\n",
        "EPOCH = 180\n",
        "ELBOs = [train(standard_vae_dim_2, dataloader, Adam(standard_vae_dim_2.parameters(), lr=0.001), DEVICE) for epoch in tqdm(range(EPOCH))]"
      ]
    },
    {
      "cell_type": "code",
      "execution_count": null,
      "metadata": {
        "execution": {
          "iopub.execute_input": "2022-01-11T18:28:59.466773Z",
          "iopub.status.busy": "2022-01-11T18:28:59.466478Z",
          "iopub.status.idle": "2022-01-11T18:28:59.724639Z",
          "shell.execute_reply": "2022-01-11T18:28:59.723572Z",
          "shell.execute_reply.started": "2022-01-11T18:28:59.466741Z"
        },
        "id": "Ex2I7K6k4GE3",
        "outputId": "1e51522d-76c2-46a6-c317-356ced4af4e0",
        "trusted": true
      },
      "outputs": [
        {
          "data": {
            "image/png": "[encoded data removed]",
            "text/plain": [
              "<Figure size 432x288 with 1 Axes>"
            ]
          },
          "metadata": {
            "needs_background": "light"
          },
          "output_type": "display_data"
        }
      ],
      "source": [
        "plt.rcParams[\"figure.figsize\"] = (6, 4)\n",
        "plt.plot(ELBOs)\n",
        "plt.show()"
      ]
    },
    {
      "cell_type": "code",
      "execution_count": null,
      "metadata": {
        "id": "dHtz0efNLsEU"
      },
      "outputs": [],
      "source": [
        "# PATH = \"/content/drive/MyDrive/PML-project/\" + \"standard_vae_dim_2.pkl\"\n",
        "# #torch.save(standard_vae_dim_2.state_dict(),PATH)\n",
        "# standard_vae_dim_2.load_state_dict(torch.load(PATH))"
      ]
    },
    {
      "cell_type": "code",
      "execution_count": 5,
      "metadata": {
        "execution": {
          "iopub.execute_input": "2022-01-11T18:29:17.522580Z",
          "iopub.status.busy": "2022-01-11T18:29:17.522299Z",
          "iopub.status.idle": "2022-01-11T18:29:18.628068Z",
          "shell.execute_reply": "2022-01-11T18:29:18.621270Z",
          "shell.execute_reply.started": "2022-01-11T18:29:17.522549Z"
        },
        "id": "xTVVmXro5GMl",
        "outputId": "c1283579-7f2d-4c47-f39a-216cebb141ae",
        "trusted": true,
        "colab": {
          "base_uri": "https://localhost:8080/",
          "height": 592
        }
      },
      "outputs": [
        {
          "output_type": "display_data",
          "data": {
            "image/png": "[encoded data removed]",
            "text/plain": [
              "<Figure size 720x720 with 1 Axes>"
            ]
          },
          "metadata": {
            "needs_background": "light"
          }
        }
      ],
      "source": [
        "Zs = []\n",
        "labels = []\n",
        "with torch.no_grad():\n",
        "    for i in dataloader:\n",
        "        z_mu, _ = standard_vae_dim_2.encoder((i[0].to(DEVICE)))\n",
        "        Zs.append(z_mu.cpu())\n",
        "        labels.append(i[1])\n",
        "Zs = torch.cat(Zs).numpy()\n",
        "labels = torch.cat(labels).numpy()\n",
        "\n",
        "plt.rcParams[\"figure.figsize\"] = (10, 10)\n",
        "for idx, name in enumerate(helper.phyla):\n",
        "    plt.scatter(Zs[labels == idx, 0], Zs[labels == idx, 1], s=3, label=name)\n",
        "plt.legend()\n",
        "plt.show()"
      ]
    },
    {
      "cell_type": "markdown",
      "metadata": {
        "id": "eyaueZfs7fjC"
      },
      "source": [
        "## 1.3  Quantitative assessment"
      ]
    },
    {
      "cell_type": "code",
      "execution_count": null,
      "metadata": {
        "execution": {
          "iopub.execute_input": "2022-01-11T18:36:01.015610Z",
          "iopub.status.busy": "2022-01-11T18:36:01.015317Z",
          "iopub.status.idle": "2022-01-11T19:26:03.517955Z",
          "shell.execute_reply": "2022-01-11T19:26:03.516886Z",
          "shell.execute_reply.started": "2022-01-11T18:36:01.015576Z"
        },
        "id": "615DYYw-7h6q",
        "trusted": true,
        "outputId": "9d6ff1b0-3b90-4f4f-fb16-27562ff59335"
      },
      "outputs": [
        {
          "name": "stderr",
          "output_type": "stream",
          "text": [
            "  6%|▌         | 11/180 [02:59<2:00:59, 42.96s/it]"
          ]
        },
        {
          "name": "stdout",
          "output_type": "stream",
          "text": [
            "0.7856844397306411 SpearmanrResult(correlation=0.4695360150146036, pvalue=1.7435267043896252e-272)\n"
          ]
        },
        {
          "name": "stderr",
          "output_type": "stream",
          "text": [
            " 12%|█▏        | 21/180 [05:53<1:54:11, 43.09s/it]"
          ]
        },
        {
          "name": "stdout",
          "output_type": "stream",
          "text": [
            "0.8307398258434918 SpearmanrResult(correlation=0.42192283683982285, pvalue=6.2297154244771e-215)\n"
          ]
        },
        {
          "name": "stderr",
          "output_type": "stream",
          "text": [
            " 17%|█▋        | 31/180 [08:47<1:47:40, 43.36s/it]"
          ]
        },
        {
          "name": "stdout",
          "output_type": "stream",
          "text": [
            "0.8585177113407259 SpearmanrResult(correlation=0.4050053504521709, pvalue=1.308779844718243e-196)\n"
          ]
        },
        {
          "name": "stderr",
          "output_type": "stream",
          "text": [
            " 23%|██▎       | 41/180 [11:41<1:39:51, 43.11s/it]"
          ]
        },
        {
          "name": "stdout",
          "output_type": "stream",
          "text": [
            "0.878302759320049 SpearmanrResult(correlation=0.28288176979685287, pvalue=1.3617597789253742e-92)\n"
          ]
        },
        {
          "name": "stderr",
          "output_type": "stream",
          "text": [
            " 28%|██▊       | 51/180 [14:35<1:32:58, 43.24s/it]"
          ]
        },
        {
          "name": "stdout",
          "output_type": "stream",
          "text": [
            "0.8951890767300767 SpearmanrResult(correlation=0.23100561094439415, pvalue=1.603431355101778e-61)\n"
          ]
        },
        {
          "name": "stderr",
          "output_type": "stream",
          "text": [
            " 34%|███▍      | 61/180 [17:29<1:25:32, 43.13s/it]"
          ]
        },
        {
          "name": "stdout",
          "output_type": "stream",
          "text": [
            "0.9093991581078172 SpearmanrResult(correlation=0.27462999106900915, pvalue=3.608318258201212e-87)\n"
          ]
        },
        {
          "name": "stderr",
          "output_type": "stream",
          "text": [
            " 39%|███▉      | 71/180 [20:23<1:18:28, 43.20s/it]"
          ]
        },
        {
          "name": "stdout",
          "output_type": "stream",
          "text": [
            "0.9219659791795526 SpearmanrResult(correlation=0.2588794083029179, pvalue=2.489967384964311e-77)\n"
          ]
        },
        {
          "name": "stderr",
          "output_type": "stream",
          "text": [
            " 45%|████▌     | 81/180 [23:16<1:10:44, 42.87s/it]"
          ]
        },
        {
          "name": "stdout",
          "output_type": "stream",
          "text": [
            "0.933101370256116 SpearmanrResult(correlation=0.2945519344969135, pvalue=1.388128247740608e-100)\n"
          ]
        },
        {
          "name": "stderr",
          "output_type": "stream",
          "text": [
            " 51%|█████     | 91/180 [26:10<1:04:19, 43.36s/it]"
          ]
        },
        {
          "name": "stdout",
          "output_type": "stream",
          "text": [
            "0.942867862481895 SpearmanrResult(correlation=0.3211176242846923, pvalue=3.187461516334763e-120)\n"
          ]
        },
        {
          "name": "stderr",
          "output_type": "stream",
          "text": [
            " 56%|█████▌    | 101/180 [29:04<56:36, 42.99s/it] "
          ]
        },
        {
          "name": "stdout",
          "output_type": "stream",
          "text": [
            "0.9523832606550161 SpearmanrResult(correlation=0.24075038844056915, pvalue=8.072450720359416e-67)\n"
          ]
        },
        {
          "name": "stderr",
          "output_type": "stream",
          "text": [
            " 62%|██████▏   | 111/180 [31:57<49:24, 42.96s/it]"
          ]
        },
        {
          "name": "stdout",
          "output_type": "stream",
          "text": [
            "0.9608375683237581 SpearmanrResult(correlation=0.3901072454253942, pvalue=2.4813140481803745e-181)\n"
          ]
        },
        {
          "name": "stderr",
          "output_type": "stream",
          "text": [
            " 67%|██████▋   | 121/180 [34:51<42:16, 42.98s/it]"
          ]
        },
        {
          "name": "stdout",
          "output_type": "stream",
          "text": [
            "0.9686030639291275 SpearmanrResult(correlation=0.37900640868250185, pvalue=1.8852145948762587e-170)\n"
          ]
        },
        {
          "name": "stderr",
          "output_type": "stream",
          "text": [
            " 73%|███████▎  | 131/180 [37:44<35:06, 43.00s/it]"
          ]
        },
        {
          "name": "stdout",
          "output_type": "stream",
          "text": [
            "0.974995298045732 SpearmanrResult(correlation=0.427295034150717, pvalue=5.651735507352748e-221)\n"
          ]
        },
        {
          "name": "stderr",
          "output_type": "stream",
          "text": [
            " 78%|███████▊  | 141/180 [40:37<27:45, 42.71s/it]"
          ]
        },
        {
          "name": "stdout",
          "output_type": "stream",
          "text": [
            "0.9794849372652659 SpearmanrResult(correlation=0.42596967035953903, pvalue=1.7909673783331153e-219)\n"
          ]
        },
        {
          "name": "stderr",
          "output_type": "stream",
          "text": [
            " 84%|████████▍ | 151/180 [43:29<20:34, 42.56s/it]"
          ]
        },
        {
          "name": "stdout",
          "output_type": "stream",
          "text": [
            "0.9833468413531545 SpearmanrResult(correlation=0.43230560186929207, pvalue=1.0395723412133628e-226)\n"
          ]
        },
        {
          "name": "stderr",
          "output_type": "stream",
          "text": [
            " 89%|████████▉ | 161/180 [46:23<13:33, 42.81s/it]"
          ]
        },
        {
          "name": "stdout",
          "output_type": "stream",
          "text": [
            "0.9864040811024095 SpearmanrResult(correlation=0.4331165237030079, pvalue=1.2008425250145576e-227)\n"
          ]
        },
        {
          "name": "stderr",
          "output_type": "stream",
          "text": [
            " 95%|█████████▌| 171/180 [49:16<06:25, 42.86s/it]"
          ]
        },
        {
          "name": "stdout",
          "output_type": "stream",
          "text": [
            "0.9887671766752045 SpearmanrResult(correlation=0.43365823854730284, pvalue=2.8305635064610885e-228)\n"
          ]
        },
        {
          "name": "stderr",
          "output_type": "stream",
          "text": [
            "100%|██████████| 180/180 [50:02<00:00, 16.68s/it]\n"
          ]
        }
      ],
      "source": [
        "# trend\n",
        "input_size = next(iter(dataloader))[0].shape[1] * 23\n",
        "standard_vae = standard_VAE(input_size, 30, device=DEVICE).to(DEVICE)\n",
        "\n",
        "EPOCH = 180\n",
        "ELBOs = []\n",
        "accs = []\n",
        "correlations = []\n",
        "for epoch in tqdm(range(EPOCH)):\n",
        "    ELBOs.append(train(standard_vae, dataloader, Adam(standard_vae.parameters(), lr=1e-4), DEVICE))\n",
        "    if epoch in range(10, EPOCH, 10):\n",
        "        acc = helper.check_reconstruct(dataset, standard_vae)\n",
        "        accs.append(acc)\n",
        "        correlation = helper.quantitative_assessment(dataset, standard_vae, experimental_data, 20)\n",
        "        correlations.append(correlation)\n",
        "        print(acc, correlation)"
      ]
    },
    {
      "cell_type": "code",
      "execution_count": null,
      "metadata": {
        "execution": {
          "iopub.execute_input": "2022-01-11T19:29:22.605842Z",
          "iopub.status.busy": "2022-01-11T19:29:22.605547Z",
          "iopub.status.idle": "2022-01-11T19:29:22.825166Z",
          "shell.execute_reply": "2022-01-11T19:29:22.824332Z",
          "shell.execute_reply.started": "2022-01-11T19:29:22.605809Z"
        },
        "id": "Hxhudx-NHJaP",
        "outputId": "2dc12225-6ebc-48ce-8e5e-971f4c9f78c3",
        "trusted": true
      },
      "outputs": [
        {
          "data": {
            "image/png": "[encoded data removed]",
            "text/plain": [
              "<Figure size 432x288 with 1 Axes>"
            ]
          },
          "metadata": {
            "needs_background": "light"
          },
          "output_type": "display_data"
        }
      ],
      "source": [
        "plt.rcParams[\"figure.figsize\"] = (6, 4)\n",
        "plt.plot(ELBOs)\n",
        "plt.show()"
      ]
    },
    {
      "cell_type": "code",
      "execution_count": null,
      "metadata": {
        "execution": {
          "iopub.execute_input": "2022-01-11T19:29:46.476377Z",
          "iopub.status.busy": "2022-01-11T19:29:46.476031Z",
          "iopub.status.idle": "2022-01-11T19:29:46.708157Z",
          "shell.execute_reply": "2022-01-11T19:29:46.707047Z",
          "shell.execute_reply.started": "2022-01-11T19:29:46.476344Z"
        },
        "trusted": true,
        "id": "c7dxpmnvFQR5",
        "outputId": "7fa820a0-fa92-45ef-919d-c07a8f1b8b40"
      },
      "outputs": [
        {
          "data": {
            "image/png": "[encoded data removed]",
            "text/plain": [
              "<Figure size 432x288 with 1 Axes>"
            ]
          },
          "metadata": {
            "needs_background": "light"
          },
          "output_type": "display_data"
        }
      ],
      "source": [
        "plt.rcParams[\"figure.figsize\"] = (6, 4)\n",
        "plt.plot(accs)\n",
        "plt.show()"
      ]
    },
    {
      "cell_type": "code",
      "execution_count": null,
      "metadata": {
        "execution": {
          "iopub.execute_input": "2022-01-11T19:42:15.435873Z",
          "iopub.status.busy": "2022-01-11T19:42:15.435561Z",
          "iopub.status.idle": "2022-01-11T19:42:15.664075Z",
          "shell.execute_reply": "2022-01-11T19:42:15.663167Z",
          "shell.execute_reply.started": "2022-01-11T19:42:15.435839Z"
        },
        "trusted": true,
        "id": "fcKwV8lJFQR6",
        "outputId": "18a6520a-024a-40a4-f30e-9ad7e0f51518"
      },
      "outputs": [
        {
          "data": {
            "image/png": "[encoded data removed]",
            "text/plain": [
              "<Figure size 432x288 with 1 Axes>"
            ]
          },
          "metadata": {
            "needs_background": "light"
          },
          "output_type": "display_data"
        }
      ],
      "source": [
        "plt.rcParams[\"figure.figsize\"] = (6, 4)\n",
        "plt.plot(np.array([[j for j in i] for i in correlations]).T[0])\n",
        "plt.show()"
      ]
    },
    {
      "cell_type": "code",
      "execution_count": null,
      "metadata": {
        "colab": {
          "base_uri": "https://localhost:8080/"
        },
        "execution": {
          "iopub.execute_input": "2022-01-07T03:36:02.547383Z",
          "iopub.status.busy": "2022-01-07T03:36:02.546869Z",
          "iopub.status.idle": "2022-01-07T03:36:02.568475Z",
          "shell.execute_reply": "2022-01-07T03:36:02.567774Z",
          "shell.execute_reply.started": "2022-01-07T03:36:02.547343Z"
        },
        "id": "AEjrYb-h_TQX",
        "outputId": "fddd16a2-f539-4837-de24-07e844c4951f",
        "trusted": true
      },
      "outputs": [
        {
          "data": {
            "text/plain": [
              "SpearmanrResult(correlation=0.5031516430567009, pvalue=0.0)"
            ]
          },
          "metadata": {},
          "output_type": "display_data"
        }
      ],
      "source": [
        "# single result, 50\n",
        "helper.quantitative_assessment(dataset, standard_vae, experimental_data, 50)"
      ]
    },
    {
      "cell_type": "code",
      "execution_count": null,
      "metadata": {
        "id": "9Uhnv72IPuO0"
      },
      "outputs": [],
      "source": [
        "# PATH = \"/content/drive/MyDrive/PML-project/\" + \"standard_vae.pkl\"\n",
        "# #torch.save(standard_vae.state_dict(),PATH)\n",
        "# standard_vae.load_state_dict(torch.load(PATH))"
      ]
    },
    {
      "cell_type": "markdown",
      "metadata": {
        "id": "zRqtudm8TEfb"
      },
      "source": [
        "## 1.4 Sequence reweighting"
      ]
    },
    {
      "cell_type": "markdown",
      "metadata": {
        "id": "ITB56F8VFQR7"
      },
      "source": [
        "### 1.4.1"
      ]
    },
    {
      "cell_type": "code",
      "execution_count": null,
      "metadata": {
        "execution": {
          "iopub.execute_input": "2022-01-11T19:43:36.354017Z",
          "iopub.status.busy": "2022-01-11T19:43:36.353692Z",
          "iopub.status.idle": "2022-01-11T20:34:10.919254Z",
          "shell.execute_reply": "2022-01-11T20:34:10.918064Z",
          "shell.execute_reply.started": "2022-01-11T19:43:36.353983Z"
        },
        "id": "tIxlHmI7To87",
        "trusted": true,
        "outputId": "d343dedb-e678-496c-b4c0-a2f82d879cef"
      },
      "outputs": [
        {
          "name": "stderr",
          "output_type": "stream",
          "text": [
            "  6%|▌         | 11/180 [02:59<2:00:58, 42.95s/it]"
          ]
        },
        {
          "name": "stdout",
          "output_type": "stream",
          "text": [
            "0.7045902707356183 SpearmanrResult(correlation=0.6211037868100757, pvalue=0.0)\n"
          ]
        },
        {
          "name": "stderr",
          "output_type": "stream",
          "text": [
            " 12%|█▏        | 21/180 [05:53<1:54:11, 43.09s/it]"
          ]
        },
        {
          "name": "stdout",
          "output_type": "stream",
          "text": [
            "0.7630854902538667 SpearmanrResult(correlation=0.5856640166726641, pvalue=0.0)\n"
          ]
        },
        {
          "name": "stderr",
          "output_type": "stream",
          "text": [
            " 17%|█▋        | 31/180 [08:47<1:47:40, 43.36s/it]"
          ]
        },
        {
          "name": "stdout",
          "output_type": "stream",
          "text": [
            "0.8092228105858926 SpearmanrResult(correlation=0.5657706253934062, pvalue=0.0)\n"
          ]
        },
        {
          "name": "stderr",
          "output_type": "stream",
          "text": [
            " 23%|██▎       | 41/180 [11:42<1:40:32, 43.40s/it]"
          ]
        },
        {
          "name": "stdout",
          "output_type": "stream",
          "text": [
            "0.8526257263792237 SpearmanrResult(correlation=0.5508681592189044, pvalue=0.0)\n"
          ]
        },
        {
          "name": "stderr",
          "output_type": "stream",
          "text": [
            " 28%|██▊       | 51/180 [14:37<1:33:10, 43.34s/it]"
          ]
        },
        {
          "name": "stdout",
          "output_type": "stream",
          "text": [
            "0.8895971443141254 SpearmanrResult(correlation=0.5278078502162358, pvalue=0.0)\n"
          ]
        },
        {
          "name": "stderr",
          "output_type": "stream",
          "text": [
            " 34%|███▍      | 61/180 [17:33<1:26:33, 43.65s/it]"
          ]
        },
        {
          "name": "stdout",
          "output_type": "stream",
          "text": [
            "0.9166115681647642 SpearmanrResult(correlation=0.5219454302270615, pvalue=0.0)\n"
          ]
        },
        {
          "name": "stderr",
          "output_type": "stream",
          "text": [
            " 39%|███▉      | 71/180 [20:27<1:18:28, 43.20s/it]"
          ]
        },
        {
          "name": "stdout",
          "output_type": "stream",
          "text": [
            "0.9351978601745443 SpearmanrResult(correlation=0.5035440084830317, pvalue=0.0)\n"
          ]
        },
        {
          "name": "stderr",
          "output_type": "stream",
          "text": [
            " 45%|████▌     | 81/180 [23:22<1:11:18, 43.22s/it]"
          ]
        },
        {
          "name": "stdout",
          "output_type": "stream",
          "text": [
            "0.946066645596741 SpearmanrResult(correlation=0.5005639989798213, pvalue=0.0)\n"
          ]
        },
        {
          "name": "stderr",
          "output_type": "stream",
          "text": [
            " 51%|█████     | 91/180 [26:17<1:04:23, 43.41s/it]"
          ]
        },
        {
          "name": "stdout",
          "output_type": "stream",
          "text": [
            "0.9522838894565704 SpearmanrResult(correlation=0.5127827868496055, pvalue=0.0)\n"
          ]
        },
        {
          "name": "stderr",
          "output_type": "stream",
          "text": [
            " 56%|█████▌    | 101/180 [29:12<56:59, 43.29s/it] "
          ]
        },
        {
          "name": "stdout",
          "output_type": "stream",
          "text": [
            "0.9571176923390138 SpearmanrResult(correlation=0.5142982862031248, pvalue=0.0)\n"
          ]
        },
        {
          "name": "stderr",
          "output_type": "stream",
          "text": [
            " 62%|██████▏   | 111/180 [32:09<50:33, 43.96s/it]"
          ]
        },
        {
          "name": "stdout",
          "output_type": "stream",
          "text": [
            "0.9615830946808779 SpearmanrResult(correlation=0.48305132655632027, pvalue=1.465144340214092e-290)\n"
          ]
        },
        {
          "name": "stderr",
          "output_type": "stream",
          "text": [
            " 67%|██████▋   | 121/180 [35:06<43:02, 43.77s/it]"
          ]
        },
        {
          "name": "stdout",
          "output_type": "stream",
          "text": [
            "0.9620581374832038 SpearmanrResult(correlation=0.4933779648008563, pvalue=6.260397513916451e-305)\n"
          ]
        },
        {
          "name": "stderr",
          "output_type": "stream",
          "text": [
            " 73%|███████▎  | 131/180 [38:00<34:59, 42.85s/it]"
          ]
        },
        {
          "name": "stdout",
          "output_type": "stream",
          "text": [
            "0.9654939572616594 SpearmanrResult(correlation=0.49897010341684733, pvalue=0.0)\n"
          ]
        },
        {
          "name": "stderr",
          "output_type": "stream",
          "text": [
            " 78%|███████▊  | 141/180 [40:57<28:31, 43.87s/it]"
          ]
        },
        {
          "name": "stdout",
          "output_type": "stream",
          "text": [
            "0.9681546816922382 SpearmanrResult(correlation=0.49084412330855126, pvalue=2.334653102002821e-301)\n"
          ]
        },
        {
          "name": "stderr",
          "output_type": "stream",
          "text": [
            " 84%|████████▍ | 151/180 [43:54<21:07, 43.71s/it]"
          ]
        },
        {
          "name": "stdout",
          "output_type": "stream",
          "text": [
            "0.9689612849810856 SpearmanrResult(correlation=0.456291129430465, pvalue=1.5243995389943682e-255)\n"
          ]
        },
        {
          "name": "stderr",
          "output_type": "stream",
          "text": [
            " 89%|████████▉ | 161/180 [46:51<13:50, 43.74s/it]"
          ]
        },
        {
          "name": "stdout",
          "output_type": "stream",
          "text": [
            "0.9700063791462027 SpearmanrResult(correlation=0.46965774881834743, pvalue=1.2084339457062223e-272)\n"
          ]
        },
        {
          "name": "stderr",
          "output_type": "stream",
          "text": [
            " 95%|█████████▌| 171/180 [49:48<06:34, 43.79s/it]"
          ]
        },
        {
          "name": "stdout",
          "output_type": "stream",
          "text": [
            "0.9713626748205987 SpearmanrResult(correlation=0.44917721701011504, pvalue=9.506887588628005e-247)\n"
          ]
        },
        {
          "name": "stderr",
          "output_type": "stream",
          "text": [
            "100%|██████████| 180/180 [50:34<00:00, 16.86s/it]\n"
          ]
        }
      ],
      "source": [
        "# trend\n",
        "input_size = next(iter(dataloader_weighted))[0].shape[1] * 23\n",
        "DEVICE = \"cuda\"\n",
        "standard_vae_weighted = standard_VAE(input_size, 30, device=DEVICE).to(DEVICE)\n",
        "\n",
        "EPOCH = 180\n",
        "ELBOs = []\n",
        "accs = []\n",
        "correlations = []\n",
        "for epoch in tqdm(range(EPOCH)):\n",
        "    ELBOs.append(train(standard_vae_weighted, dataloader_weighted, Adam(standard_vae_weighted.parameters(), lr=1e-4), DEVICE))\n",
        "    if epoch in range(10, EPOCH, 10):\n",
        "        acc = helper.check_reconstruct(dataset, standard_vae_weighted)\n",
        "        accs.append(acc)\n",
        "        correlation = helper.quantitative_assessment(dataset, standard_vae_weighted, experimental_data, 20)\n",
        "        correlations.append(correlation)\n",
        "        print(acc, correlation)"
      ]
    },
    {
      "cell_type": "code",
      "execution_count": null,
      "metadata": {
        "execution": {
          "iopub.execute_input": "2022-01-11T20:34:11.386387Z",
          "iopub.status.busy": "2022-01-11T20:34:11.386012Z",
          "iopub.status.idle": "2022-01-11T20:34:11.612034Z",
          "shell.execute_reply": "2022-01-11T20:34:11.611073Z",
          "shell.execute_reply.started": "2022-01-11T20:34:11.386329Z"
        },
        "id": "oHGPC0u0UhOV",
        "outputId": "bdd0e630-5d2b-4c6f-b50d-ab1d312b84ed",
        "trusted": true
      },
      "outputs": [
        {
          "data": {
            "image/png": "[encoded data removed]",
            "text/plain": [
              "<Figure size 432x288 with 1 Axes>"
            ]
          },
          "metadata": {
            "needs_background": "light"
          },
          "output_type": "display_data"
        }
      ],
      "source": [
        "plt.rcParams[\"figure.figsize\"] = (6, 4)\n",
        "plt.plot(ELBOs)\n",
        "plt.show()"
      ]
    },
    {
      "cell_type": "code",
      "execution_count": null,
      "metadata": {
        "execution": {
          "iopub.execute_input": "2022-01-11T20:34:17.974717Z",
          "iopub.status.busy": "2022-01-11T20:34:17.974437Z",
          "iopub.status.idle": "2022-01-11T20:34:18.205920Z",
          "shell.execute_reply": "2022-01-11T20:34:18.205018Z",
          "shell.execute_reply.started": "2022-01-11T20:34:17.974687Z"
        },
        "trusted": true,
        "id": "Sv9JkWVtFQR9",
        "outputId": "94c54bff-1778-4b47-be7d-734f983e2d11"
      },
      "outputs": [
        {
          "data": {
            "image/png": "[encoded data removed]",
            "text/plain": [
              "<Figure size 432x288 with 1 Axes>"
            ]
          },
          "metadata": {
            "needs_background": "light"
          },
          "output_type": "display_data"
        }
      ],
      "source": [
        "plt.rcParams[\"figure.figsize\"] = (6, 4)\n",
        "plt.plot(accs)\n",
        "plt.show()"
      ]
    },
    {
      "cell_type": "code",
      "execution_count": null,
      "metadata": {
        "execution": {
          "iopub.execute_input": "2022-01-11T20:34:21.963678Z",
          "iopub.status.busy": "2022-01-11T20:34:21.963020Z",
          "iopub.status.idle": "2022-01-11T20:34:22.195338Z",
          "shell.execute_reply": "2022-01-11T20:34:22.194301Z",
          "shell.execute_reply.started": "2022-01-11T20:34:21.963641Z"
        },
        "trusted": true,
        "id": "8AH8xgUWFQR9",
        "outputId": "9514e09b-3534-4367-f746-b9731aea0598"
      },
      "outputs": [
        {
          "data": {
            "image/png": "[encoded data removed]",
            "text/plain": [
              "<Figure size 432x288 with 1 Axes>"
            ]
          },
          "metadata": {
            "needs_background": "light"
          },
          "output_type": "display_data"
        }
      ],
      "source": [
        "plt.rcParams[\"figure.figsize\"] = (6, 4)\n",
        "plt.plot(np.array([[j for j in i] for i in correlations]).T[0])\n",
        "plt.show()"
      ]
    },
    {
      "cell_type": "markdown",
      "metadata": {
        "id": "VD6FBvcvFQR9"
      },
      "source": [
        "### 1.4.2 More epochs and samples with init results"
      ]
    },
    {
      "cell_type": "code",
      "execution_count": null,
      "metadata": {
        "execution": {
          "iopub.execute_input": "2022-01-12T14:46:43.216913Z",
          "iopub.status.busy": "2022-01-12T14:46:43.216645Z",
          "iopub.status.idle": "2022-01-12T16:01:55.391610Z",
          "shell.execute_reply": "2022-01-12T16:01:55.390902Z",
          "shell.execute_reply.started": "2022-01-12T14:46:43.216881Z"
        },
        "trusted": true,
        "id": "vL9AVSQdFQR9",
        "outputId": "a44b2d6b-7c53-45be-b50e-2d2e55913996"
      },
      "outputs": [
        {
          "name": "stdout",
          "output_type": "stream",
          "text": [
            "0.03858123134972263 SpearmanrResult(correlation=-0.036403834363489054, pvalue=0.010065334920898419)\n"
          ]
        },
        {
          "name": "stderr",
          "output_type": "stream",
          "text": [
            "  0%|          | 1/200 [02:59<9:56:21, 179.80s/it]"
          ]
        },
        {
          "name": "stdout",
          "output_type": "stream",
          "text": [
            "0.525011003542462 SpearmanrResult(correlation=0.5837049496745788, pvalue=0.0)\n"
          ]
        },
        {
          "name": "stderr",
          "output_type": "stream",
          "text": [
            "  6%|▌         | 11/200 [06:37<3:07:24, 59.50s/it]"
          ]
        },
        {
          "name": "stdout",
          "output_type": "stream",
          "text": [
            "0.7004472188667612 SpearmanrResult(correlation=0.6374792869176791, pvalue=0.0)\n"
          ]
        },
        {
          "name": "stderr",
          "output_type": "stream",
          "text": [
            " 10%|█         | 21/200 [10:15<2:54:13, 58.40s/it]"
          ]
        },
        {
          "name": "stdout",
          "output_type": "stream",
          "text": [
            "0.7583496043572089 SpearmanrResult(correlation=0.6064501686107556, pvalue=0.0)\n"
          ]
        },
        {
          "name": "stderr",
          "output_type": "stream",
          "text": [
            " 16%|█▌        | 31/200 [13:52<2:44:24, 58.37s/it]"
          ]
        },
        {
          "name": "stdout",
          "output_type": "stream",
          "text": [
            "0.8031189953135573 SpearmanrResult(correlation=0.5937562405074264, pvalue=0.0)\n"
          ]
        },
        {
          "name": "stderr",
          "output_type": "stream",
          "text": [
            " 20%|██        | 41/200 [17:27<2:33:17, 57.85s/it]"
          ]
        },
        {
          "name": "stdout",
          "output_type": "stream",
          "text": [
            "0.8468665595073516 SpearmanrResult(correlation=0.5630360924645673, pvalue=0.0)\n"
          ]
        },
        {
          "name": "stderr",
          "output_type": "stream",
          "text": [
            " 26%|██▌       | 51/200 [21:02<2:23:30, 57.79s/it]"
          ]
        },
        {
          "name": "stdout",
          "output_type": "stream",
          "text": [
            "0.8814651871183904 SpearmanrResult(correlation=0.5685878084551745, pvalue=0.0)\n"
          ]
        },
        {
          "name": "stderr",
          "output_type": "stream",
          "text": [
            " 30%|███       | 61/200 [24:39<2:14:37, 58.11s/it]"
          ]
        },
        {
          "name": "stdout",
          "output_type": "stream",
          "text": [
            "0.9105664061363896 SpearmanrResult(correlation=0.5513048908825091, pvalue=0.0)\n"
          ]
        },
        {
          "name": "stderr",
          "output_type": "stream",
          "text": [
            " 36%|███▌      | 71/200 [28:15<2:04:45, 58.03s/it]"
          ]
        },
        {
          "name": "stdout",
          "output_type": "stream",
          "text": [
            "0.9294852281077979 SpearmanrResult(correlation=0.5520047479936762, pvalue=0.0)\n"
          ]
        },
        {
          "name": "stderr",
          "output_type": "stream",
          "text": [
            " 40%|████      | 81/200 [31:52<1:55:55, 58.45s/it]"
          ]
        },
        {
          "name": "stdout",
          "output_type": "stream",
          "text": [
            "0.9411460746922401 SpearmanrResult(correlation=0.5289219033141273, pvalue=0.0)\n"
          ]
        },
        {
          "name": "stderr",
          "output_type": "stream",
          "text": [
            " 46%|████▌     | 91/200 [35:30<1:46:31, 58.63s/it]"
          ]
        },
        {
          "name": "stdout",
          "output_type": "stream",
          "text": [
            "0.9472843063308664 SpearmanrResult(correlation=0.5451084044172844, pvalue=0.0)\n"
          ]
        },
        {
          "name": "stderr",
          "output_type": "stream",
          "text": [
            " 50%|█████     | 101/200 [39:07<1:36:12, 58.30s/it]"
          ]
        },
        {
          "name": "stdout",
          "output_type": "stream",
          "text": [
            "0.9550740388139054 SpearmanrResult(correlation=0.5438772558669572, pvalue=0.0)\n"
          ]
        },
        {
          "name": "stderr",
          "output_type": "stream",
          "text": [
            " 56%|█████▌    | 111/200 [42:45<1:26:51, 58.56s/it]"
          ]
        },
        {
          "name": "stdout",
          "output_type": "stream",
          "text": [
            "0.9585593018228071 SpearmanrResult(correlation=0.5361914695510925, pvalue=0.0)\n"
          ]
        },
        {
          "name": "stderr",
          "output_type": "stream",
          "text": [
            " 60%|██████    | 121/200 [46:22<1:16:37, 58.19s/it]"
          ]
        },
        {
          "name": "stdout",
          "output_type": "stream",
          "text": [
            "0.9618826624888753 SpearmanrResult(correlation=0.534565644080348, pvalue=0.0)\n"
          ]
        },
        {
          "name": "stderr",
          "output_type": "stream",
          "text": [
            " 66%|██████▌   | 131/200 [49:58<1:06:50, 58.12s/it]"
          ]
        },
        {
          "name": "stdout",
          "output_type": "stream",
          "text": [
            "0.9634154026327066 SpearmanrResult(correlation=0.5342536265395087, pvalue=0.0)\n"
          ]
        },
        {
          "name": "stderr",
          "output_type": "stream",
          "text": [
            " 70%|███████   | 141/200 [53:34<57:14, 58.21s/it]  "
          ]
        },
        {
          "name": "stdout",
          "output_type": "stream",
          "text": [
            "0.9661847082752456 SpearmanrResult(correlation=0.5380679276413824, pvalue=0.0)\n"
          ]
        },
        {
          "name": "stderr",
          "output_type": "stream",
          "text": [
            " 76%|███████▌  | 151/200 [57:10<47:23, 58.03s/it]"
          ]
        },
        {
          "name": "stdout",
          "output_type": "stream",
          "text": [
            "0.9674745949048267 SpearmanrResult(correlation=0.5383584949962852, pvalue=0.0)\n"
          ]
        },
        {
          "name": "stderr",
          "output_type": "stream",
          "text": [
            " 80%|████████  | 161/200 [1:00:47<37:50, 58.22s/it]"
          ]
        },
        {
          "name": "stdout",
          "output_type": "stream",
          "text": [
            "0.9691677831788313 SpearmanrResult(correlation=0.5267326020574963, pvalue=0.0)\n"
          ]
        },
        {
          "name": "stderr",
          "output_type": "stream",
          "text": [
            " 86%|████████▌ | 171/200 [1:04:23<28:07, 58.19s/it]"
          ]
        },
        {
          "name": "stdout",
          "output_type": "stream",
          "text": [
            "0.9702109383937348 SpearmanrResult(correlation=0.5070575923924429, pvalue=0.0)\n"
          ]
        },
        {
          "name": "stderr",
          "output_type": "stream",
          "text": [
            " 90%|█████████ | 181/200 [1:08:02<18:41, 59.00s/it]"
          ]
        },
        {
          "name": "stdout",
          "output_type": "stream",
          "text": [
            "0.9718929777040115 SpearmanrResult(correlation=0.5125444249629463, pvalue=0.0)\n"
          ]
        },
        {
          "name": "stderr",
          "output_type": "stream",
          "text": [
            " 96%|█████████▌| 191/200 [1:11:39<08:44, 58.27s/it]"
          ]
        },
        {
          "name": "stdout",
          "output_type": "stream",
          "text": [
            "0.9725643392154619 SpearmanrResult(correlation=0.506858954070154, pvalue=0.0)\n"
          ]
        },
        {
          "name": "stderr",
          "output_type": "stream",
          "text": [
            "100%|██████████| 200/200 [1:12:17<00:00, 21.69s/it]\n"
          ]
        }
      ],
      "source": [
        "# trend\n",
        "input_size = next(iter(dataloader_weighted))[0].shape[1] * 23\n",
        "DEVICE = \"cuda\"\n",
        "standard_vae_weighted = standard_VAE(input_size, 30, device=DEVICE).to(DEVICE)\n",
        "\n",
        "EPOCH = 200\n",
        "ELBOs = []\n",
        "accs = []\n",
        "correlations = []\n",
        "init_acc = helper.check_reconstruct(dataset, standard_vae_weighted)\n",
        "init_corr = helper.quantitative_assessment(dataset, standard_vae_weighted, experimental_data, 50)\n",
        "accs.append(init_acc)\n",
        "correlations.append(init_corr)\n",
        "print(init_acc, init_corr)\n",
        "for epoch in tqdm(range(EPOCH)):\n",
        "    ELBOs.append(train(standard_vae_weighted, dataloader_weighted, Adam(standard_vae_weighted.parameters(), lr=1e-4), DEVICE))\n",
        "    if epoch in range(0, EPOCH, 10):\n",
        "        acc = helper.check_reconstruct(dataset, standard_vae_weighted)\n",
        "        accs.append(acc)\n",
        "        correlation = helper.quantitative_assessment(dataset, standard_vae_weighted, experimental_data, 50)\n",
        "        correlations.append(correlation) \n",
        "        print(acc, correlation)"
      ]
    },
    {
      "cell_type": "code",
      "execution_count": null,
      "metadata": {
        "execution": {
          "iopub.execute_input": "2022-01-12T16:02:17.733997Z",
          "iopub.status.busy": "2022-01-12T16:02:17.733620Z",
          "iopub.status.idle": "2022-01-12T16:02:18.064598Z",
          "shell.execute_reply": "2022-01-12T16:02:18.063959Z",
          "shell.execute_reply.started": "2022-01-12T16:02:17.733954Z"
        },
        "outputId": "bdd0e630-5d2b-4c6f-b50d-ab1d312b84ed",
        "trusted": true,
        "id": "0iL25MxgFQR-"
      },
      "outputs": [
        {
          "data": {
            "image/png": "[encoded data removed]",
            "text/plain": [
              "<Figure size 432x288 with 1 Axes>"
            ]
          },
          "metadata": {},
          "output_type": "display_data"
        }
      ],
      "source": [
        "plt.rcParams[\"figure.figsize\"] = (6, 4)\n",
        "plt.plot(ELBOs)\n",
        "plt.show()"
      ]
    },
    {
      "cell_type": "code",
      "execution_count": null,
      "metadata": {
        "execution": {
          "iopub.execute_input": "2022-01-12T16:02:20.787637Z",
          "iopub.status.busy": "2022-01-12T16:02:20.787379Z",
          "iopub.status.idle": "2022-01-12T16:02:20.960708Z",
          "shell.execute_reply": "2022-01-12T16:02:20.960091Z",
          "shell.execute_reply.started": "2022-01-12T16:02:20.787609Z"
        },
        "trusted": true,
        "id": "2rTxxhbeFQR-",
        "outputId": "fe4adad6-9ccb-4aad-f9eb-42440a6bb222"
      },
      "outputs": [
        {
          "data": {
            "image/png": "[encoded data removed]",
            "text/plain": [
              "<Figure size 432x288 with 1 Axes>"
            ]
          },
          "metadata": {},
          "output_type": "display_data"
        }
      ],
      "source": [
        "plt.rcParams[\"figure.figsize\"] = (6, 4)\n",
        "plt.plot(accs)\n",
        "plt.show()"
      ]
    },
    {
      "cell_type": "code",
      "execution_count": null,
      "metadata": {
        "execution": {
          "iopub.execute_input": "2022-01-12T16:02:23.232708Z",
          "iopub.status.busy": "2022-01-12T16:02:23.232458Z",
          "iopub.status.idle": "2022-01-12T16:02:23.412328Z",
          "shell.execute_reply": "2022-01-12T16:02:23.411646Z",
          "shell.execute_reply.started": "2022-01-12T16:02:23.232679Z"
        },
        "trusted": true,
        "id": "j0CsGc2FFQR_",
        "outputId": "f3d0c543-0610-4ebb-c84b-3dfc56c9f2b7"
      },
      "outputs": [
        {
          "data": {
            "image/png": "[encoded data removed]",
            "text/plain": [
              "<Figure size 432x288 with 1 Axes>"
            ]
          },
          "metadata": {},
          "output_type": "display_data"
        }
      ],
      "source": [
        "plt.rcParams[\"figure.figsize\"] = (6, 4)\n",
        "plt.plot(np.array([[j for j in i] for i in correlations]).T[0])\n",
        "plt.show()"
      ]
    },
    {
      "cell_type": "markdown",
      "metadata": {
        "id": "e3ViXfzKFQR_"
      },
      "source": [
        "### 1.4.3 Seems overfitting, let's just train 10 epochs"
      ]
    },
    {
      "cell_type": "code",
      "execution_count": null,
      "metadata": {
        "execution": {
          "iopub.execute_input": "2022-01-12T12:56:13.457033Z",
          "iopub.status.busy": "2022-01-12T12:56:13.456390Z",
          "iopub.status.idle": "2022-01-12T13:25:41.404234Z",
          "shell.execute_reply": "2022-01-12T13:25:41.403559Z",
          "shell.execute_reply.started": "2022-01-12T12:56:13.456994Z"
        },
        "trusted": true,
        "id": "P0q_P0tNFQR_",
        "outputId": "173043a8-7bca-4e10-b0b9-993083d4735c"
      },
      "outputs": [
        {
          "name": "stderr",
          "output_type": "stream",
          "text": [
            " 10%|█         | 1/10 [05:49<52:21, 349.01s/it]"
          ]
        },
        {
          "name": "stdout",
          "output_type": "stream",
          "text": [
            "0.6016305601821063 SpearmanrResult(correlation=0.6113284639669914, pvalue=0.0)\n"
          ]
        },
        {
          "name": "stderr",
          "output_type": "stream",
          "text": [
            " 30%|███       | 3/10 [11:42<27:53, 239.10s/it]"
          ]
        },
        {
          "name": "stdout",
          "output_type": "stream",
          "text": [
            "0.6817252003420308 SpearmanrResult(correlation=0.593401085026026, pvalue=0.0)\n"
          ]
        },
        {
          "name": "stderr",
          "output_type": "stream",
          "text": [
            " 50%|█████     | 5/10 [17:36<18:18, 219.65s/it]"
          ]
        },
        {
          "name": "stdout",
          "output_type": "stream",
          "text": [
            "0.7268440870743762 SpearmanrResult(correlation=0.5682762617484144, pvalue=0.0)\n"
          ]
        },
        {
          "name": "stderr",
          "output_type": "stream",
          "text": [
            " 70%|███████   | 7/10 [23:29<10:38, 212.68s/it]"
          ]
        },
        {
          "name": "stdout",
          "output_type": "stream",
          "text": [
            "0.7514774800627444 SpearmanrResult(correlation=0.5525061836537879, pvalue=0.0)\n"
          ]
        },
        {
          "name": "stderr",
          "output_type": "stream",
          "text": [
            " 90%|█████████ | 9/10 [29:23<03:29, 209.81s/it]"
          ]
        },
        {
          "name": "stdout",
          "output_type": "stream",
          "text": [
            "0.7700186914800589 SpearmanrResult(correlation=0.5423959622054667, pvalue=0.0)\n"
          ]
        },
        {
          "name": "stderr",
          "output_type": "stream",
          "text": [
            "100%|██████████| 10/10 [29:27<00:00, 176.77s/it]\n"
          ]
        }
      ],
      "source": [
        "# unweighted\n",
        "input_size = next(iter(dataloader))[0].shape[1] * 23\n",
        "standard_vae = standard_VAE(input_size, 30, device=DEVICE).to(DEVICE)\n",
        "\n",
        "EPOCH = 10\n",
        "ELBOs = []\n",
        "accs = []\n",
        "correlations = []\n",
        "for epoch in tqdm(range(EPOCH)):\n",
        "    ELBOs.append(train(standard_vae, dataloader, Adam(standard_vae.parameters(), lr=1e-4), DEVICE))\n",
        "    if epoch in range(0, EPOCH, 2):\n",
        "        acc = helper.check_reconstruct(dataset, standard_vae)\n",
        "        accs.append(acc)\n",
        "        correlation = helper.quantitative_assessment(dataset, standard_vae, experimental_data, 100)\n",
        "        correlations.append(correlation)\n",
        "        print(acc, correlation)"
      ]
    },
    {
      "cell_type": "code",
      "execution_count": null,
      "metadata": {
        "execution": {
          "iopub.execute_input": "2022-01-12T13:25:41.406481Z",
          "iopub.status.busy": "2022-01-12T13:25:41.406009Z",
          "iopub.status.idle": "2022-01-12T13:25:41.604142Z",
          "shell.execute_reply": "2022-01-12T13:25:41.603409Z",
          "shell.execute_reply.started": "2022-01-12T13:25:41.406443Z"
        },
        "outputId": "2dc12225-6ebc-48ce-8e5e-971f4c9f78c3",
        "trusted": true,
        "id": "ykxFw9MqFQR_"
      },
      "outputs": [
        {
          "data": {
            "image/png": "[encoded data removed]",
            "text/plain": [
              "<Figure size 432x288 with 1 Axes>"
            ]
          },
          "metadata": {},
          "output_type": "display_data"
        }
      ],
      "source": [
        "plt.rcParams[\"figure.figsize\"] = (6, 4)\n",
        "plt.plot(ELBOs)\n",
        "plt.show()"
      ]
    },
    {
      "cell_type": "code",
      "execution_count": null,
      "metadata": {
        "execution": {
          "iopub.execute_input": "2022-01-12T13:25:41.605676Z",
          "iopub.status.busy": "2022-01-12T13:25:41.605423Z",
          "iopub.status.idle": "2022-01-12T13:25:41.792578Z",
          "shell.execute_reply": "2022-01-12T13:25:41.791914Z",
          "shell.execute_reply.started": "2022-01-12T13:25:41.605642Z"
        },
        "trusted": true,
        "id": "QVeZsOXlFQSA",
        "outputId": "8fa17f2e-89d3-4a23-c575-e73c1d72b4af"
      },
      "outputs": [
        {
          "data": {
            "image/png": "[encoded data removed]",
            "text/plain": [
              "<Figure size 432x288 with 1 Axes>"
            ]
          },
          "metadata": {},
          "output_type": "display_data"
        }
      ],
      "source": [
        "plt.rcParams[\"figure.figsize\"] = (6, 4)\n",
        "plt.plot(accs)\n",
        "plt.show()"
      ]
    },
    {
      "cell_type": "code",
      "execution_count": null,
      "metadata": {
        "execution": {
          "iopub.execute_input": "2022-01-12T13:25:41.794648Z",
          "iopub.status.busy": "2022-01-12T13:25:41.794252Z",
          "iopub.status.idle": "2022-01-12T13:25:41.979593Z",
          "shell.execute_reply": "2022-01-12T13:25:41.978910Z",
          "shell.execute_reply.started": "2022-01-12T13:25:41.794611Z"
        },
        "trusted": true,
        "id": "ce1hQ9y5FQSA",
        "outputId": "0556d3ec-ab46-4a56-995c-42719e1a28f2"
      },
      "outputs": [
        {
          "data": {
            "image/png": "[encoded data removed]",
            "text/plain": [
              "<Figure size 432x288 with 1 Axes>"
            ]
          },
          "metadata": {},
          "output_type": "display_data"
        }
      ],
      "source": [
        "plt.rcParams[\"figure.figsize\"] = (6, 4)\n",
        "plt.plot(np.array([[j for j in i] for i in correlations]).T[0])\n",
        "plt.show()"
      ]
    },
    {
      "cell_type": "code",
      "execution_count": null,
      "metadata": {
        "execution": {
          "iopub.execute_input": "2022-01-12T13:25:53.941210Z",
          "iopub.status.busy": "2022-01-12T13:25:53.940701Z",
          "iopub.status.idle": "2022-01-12T13:55:28.262092Z",
          "shell.execute_reply": "2022-01-12T13:55:28.261377Z",
          "shell.execute_reply.started": "2022-01-12T13:25:53.941163Z"
        },
        "trusted": true,
        "id": "DVlh2GaCFQSA",
        "outputId": "283d427a-3a3c-4ac4-9d91-28c64885ff6f"
      },
      "outputs": [
        {
          "name": "stderr",
          "output_type": "stream",
          "text": [
            " 10%|█         | 1/10 [05:50<52:35, 350.56s/it]"
          ]
        },
        {
          "name": "stdout",
          "output_type": "stream",
          "text": [
            "0.5131378419096333 SpearmanrResult(correlation=0.6266905504743042, pvalue=0.0)\n"
          ]
        },
        {
          "name": "stderr",
          "output_type": "stream",
          "text": [
            " 30%|███       | 3/10 [11:45<28:00, 240.05s/it]"
          ]
        },
        {
          "name": "stdout",
          "output_type": "stream",
          "text": [
            "0.6022219399972467 SpearmanrResult(correlation=0.6601430649801059, pvalue=0.0)\n"
          ]
        },
        {
          "name": "stderr",
          "output_type": "stream",
          "text": [
            " 50%|█████     | 5/10 [17:40<18:22, 220.47s/it]"
          ]
        },
        {
          "name": "stdout",
          "output_type": "stream",
          "text": [
            "0.6349611143534667 SpearmanrResult(correlation=0.6614006479622457, pvalue=0.0)\n"
          ]
        },
        {
          "name": "stderr",
          "output_type": "stream",
          "text": [
            " 70%|███████   | 7/10 [23:36<10:40, 213.66s/it]"
          ]
        },
        {
          "name": "stdout",
          "output_type": "stream",
          "text": [
            "0.65837975503303 SpearmanrResult(correlation=0.6667878030341958, pvalue=0.0)\n"
          ]
        },
        {
          "name": "stderr",
          "output_type": "stream",
          "text": [
            " 90%|█████████ | 9/10 [29:29<03:30, 210.30s/it]"
          ]
        },
        {
          "name": "stdout",
          "output_type": "stream",
          "text": [
            "0.6838614387398375 SpearmanrResult(correlation=0.6617398075693872, pvalue=0.0)\n"
          ]
        },
        {
          "name": "stderr",
          "output_type": "stream",
          "text": [
            "100%|██████████| 10/10 [29:33<00:00, 177.39s/it]\n"
          ]
        }
      ],
      "source": [
        "# weighted\n",
        "input_size = next(iter(dataloader_weighted))[0].shape[1] * 23\n",
        "DEVICE = \"cuda\"\n",
        "standard_vae_weighted = standard_VAE(input_size, 30, device=DEVICE).to(DEVICE)\n",
        "\n",
        "EPOCH = 10\n",
        "ELBOs = []\n",
        "accs = []\n",
        "correlations = []\n",
        "count = 0\n",
        "for epoch in tqdm(range(EPOCH)):\n",
        "    ELBOs.append(train(standard_vae_weighted, dataloader_weighted, Adam(standard_vae_weighted.parameters(), lr=1e-4), DEVICE))\n",
        "    if epoch in range(0, EPOCH, 2):\n",
        "        acc = helper.check_reconstruct(dataset, standard_vae_weighted)\n",
        "        accs.append(acc)\n",
        "        correlation = helper.quantitative_assessment(dataset, standard_vae_weighted, experimental_data, 100)\n",
        "        correlations.append(correlation) \n",
        "        print(acc, correlation)"
      ]
    },
    {
      "cell_type": "code",
      "execution_count": null,
      "metadata": {
        "execution": {
          "iopub.execute_input": "2022-01-12T13:55:28.264072Z",
          "iopub.status.busy": "2022-01-12T13:55:28.263660Z",
          "iopub.status.idle": "2022-01-12T13:55:28.428758Z",
          "shell.execute_reply": "2022-01-12T13:55:28.426443Z",
          "shell.execute_reply.started": "2022-01-12T13:55:28.264033Z"
        },
        "outputId": "bdd0e630-5d2b-4c6f-b50d-ab1d312b84ed",
        "trusted": true,
        "id": "DzY9yqpOFQSB"
      },
      "outputs": [
        {
          "data": {
            "image/png": "[encoded data removed]",
            "text/plain": [
              "<Figure size 432x288 with 1 Axes>"
            ]
          },
          "metadata": {},
          "output_type": "display_data"
        }
      ],
      "source": [
        "plt.rcParams[\"figure.figsize\"] = (6, 4)\n",
        "plt.plot(ELBOs)\n",
        "plt.show()"
      ]
    },
    {
      "cell_type": "code",
      "execution_count": null,
      "metadata": {
        "execution": {
          "iopub.execute_input": "2022-01-12T13:55:28.430377Z",
          "iopub.status.busy": "2022-01-12T13:55:28.430126Z",
          "iopub.status.idle": "2022-01-12T13:55:28.606920Z",
          "shell.execute_reply": "2022-01-12T13:55:28.606263Z",
          "shell.execute_reply.started": "2022-01-12T13:55:28.430344Z"
        },
        "trusted": true,
        "id": "74isjTSQFQSB",
        "outputId": "165e41b8-bacc-4bc3-9c0b-c072153ca9ec"
      },
      "outputs": [
        {
          "data": {
            "image/png": "[encoded data removed]",
            "text/plain": [
              "<Figure size 432x288 with 1 Axes>"
            ]
          },
          "metadata": {},
          "output_type": "display_data"
        }
      ],
      "source": [
        "plt.rcParams[\"figure.figsize\"] = (6, 4)\n",
        "plt.plot(accs)\n",
        "plt.show()"
      ]
    },
    {
      "cell_type": "code",
      "execution_count": null,
      "metadata": {
        "execution": {
          "iopub.execute_input": "2022-01-12T13:55:28.609068Z",
          "iopub.status.busy": "2022-01-12T13:55:28.608411Z",
          "iopub.status.idle": "2022-01-12T13:55:28.792735Z",
          "shell.execute_reply": "2022-01-12T13:55:28.792067Z",
          "shell.execute_reply.started": "2022-01-12T13:55:28.609029Z"
        },
        "trusted": true,
        "id": "Ld5LBz1nFQSB",
        "outputId": "8dcb4f3a-c4ac-41ca-f2df-3a5f38dd3dfe"
      },
      "outputs": [
        {
          "data": {
            "image/png": "[encoded data removed]",
            "text/plain": [
              "<Figure size 432x288 with 1 Axes>"
            ]
          },
          "metadata": {},
          "output_type": "display_data"
        }
      ],
      "source": [
        "plt.rcParams[\"figure.figsize\"] = (6, 4)\n",
        "plt.plot(np.array([[j for j in i] for i in correlations]).T[0])\n",
        "plt.show()"
      ]
    },
    {
      "cell_type": "code",
      "execution_count": null,
      "metadata": {
        "id": "SAQgu5nVFQSC"
      },
      "outputs": [],
      "source": [
        "# if correlation < correlations[-1] and len(correlations)>0:\n",
        "#     count += 1\n",
        "#     if count > 3:\n",
        "#         break\n",
        "# else:\n",
        "#     correlations.append(correlation)"
      ]
    },
    {
      "cell_type": "code",
      "execution_count": null,
      "metadata": {
        "id": "HY4rbrSUP4Wo"
      },
      "outputs": [],
      "source": [
        "# PATH = \"/content/drive/MyDrive/PML-project/\" + \"standard_vae_weighted.pkl\"\n",
        "# #torch.save(standard_vae_weighted.state_dict(),PATH)\n",
        "# standard_vae_weighted.load_state_dict(torch.load(PATH))"
      ]
    }
  ],
  "metadata": {
    "kernelspec": {
      "display_name": "Python 3",
      "language": "python",
      "name": "python3"
    },
    "language_info": {
      "codemirror_mode": {
        "name": "ipython",
        "version": 3
      },
      "file_extension": ".py",
      "mimetype": "text/x-python",
      "name": "python",
      "nbconvert_exporter": "python",
      "pygments_lexer": "ipython3",
      "version": "3.7.12"
    },
    "colab": {
      "name": "pml_project_1.ipynb",
      "provenance": []
    },
    "accelerator": "GPU"
  },
  "nbformat": 4,
  "nbformat_minor": 0
}